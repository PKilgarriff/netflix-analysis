{
 "cells": [
  {
   "cell_type": "markdown",
   "metadata": {},
   "source": [
    "# How can we more effectively match films across the Netflix and Rotten Tomatoes Datasets?"
   ]
  },
  {
   "cell_type": "markdown",
   "metadata": {},
   "source": [
    "#### Import Libraries"
   ]
  },
  {
   "cell_type": "code",
   "execution_count": 2,
   "metadata": {},
   "outputs": [],
   "source": [
    "import pandas as pd\n",
    "import plotly.express as px\n",
    "import slugify as slugify"
   ]
  },
  {
   "cell_type": "markdown",
   "metadata": {},
   "source": [
    "Create DataFrame from Netflix CSV, filtered to just movies\n",
    "\n",
    "Create DataFrame from Rotten Tomatoes Movies CSV"
   ]
  },
  {
   "cell_type": "markdown",
   "metadata": {},
   "source": [
    "# Pre-Merge\n",
    "\n",
    "The Netflix dataset has been filtered to just Movies, as RT does not contain TV Show data"
   ]
  },
  {
   "cell_type": "code",
   "execution_count": 3,
   "metadata": {},
   "outputs": [
    {
     "name": "stdout",
     "output_type": "stream",
     "text": [
      "Movies in Netflix Dataset: 6131\n",
      "Movies in Rotten Tomatoes Dataset: 17712\n"
     ]
    }
   ],
   "source": [
    "netflix_movies_df = pd.read_csv('./data/netflix-titles.csv', parse_dates=['date_added'])\n",
    "netflix_movies_df = netflix_movies_df[netflix_movies_df[\"type\"] == 'Movie']\n",
    "rotten_movies_df = pd.read_csv('./data/rotten_tomatoes_movies.csv')\n",
    "\n",
    "print(f\"Movies in Netflix Dataset: {len(netflix_movies_df.index)}\")\n",
    "print(f\"Movies in Rotten Tomatoes Dataset: {len(rotten_movies_df.index)}\")"
   ]
  },
  {
   "cell_type": "markdown",
   "metadata": {},
   "source": [
    "### Slug of 'Title' and 'Release Year' as a Unique identifier column"
   ]
  },
  {
   "cell_type": "code",
   "execution_count": 6,
   "metadata": {},
   "outputs": [],
   "source": [
    "netflix_movies_df[\"title_and_release_year\"] = netflix_movies_df[\"title\"] + \" \" + netflix_movies_df[\"release_year\"].astype(str)\n",
    "netflix_movies_df[\"title_and_release_year\"] = netflix_movies_df[\"title_and_release_year\"].apply(slugify.slugify)\n",
    "\n",
    "# Extract release_year from Rotten Tomatoes original_release_date\n",
    "rotten_movies_df[\"release_year\"] = rotten_movies_df[\"original_release_date\"].str.split('-').str[0]\n",
    "rotten_movies_df[\"title_and_release_year\"] = rotten_movies_df[\"movie_title\"] + \" \" + rotten_movies_df[\"release_year\"].astype(str)\n",
    "rotten_movies_df[\"title_and_release_year\"] = rotten_movies_df[\"title_and_release_year\"].apply(slugify.slugify)"
   ]
  },
  {
   "cell_type": "markdown",
   "metadata": {},
   "source": [
    "Merge the above datasets, keeping the entire Netflix set and dumping the Rotten tomatoes that don't match the Netflix Set"
   ]
  },
  {
   "cell_type": "code",
   "execution_count": 7,
   "metadata": {},
   "outputs": [
    {
     "name": "stdout",
     "output_type": "stream",
     "text": [
      "Movies after merging on 'Title' and 'Release Year': 1283\n"
     ]
    }
   ],
   "source": [
    "merged_on_title_release_year_slug = pd.merge(netflix_movies_df, rotten_movies_df, how=\"inner\", on=\"title_and_release_year\", indicator=True)\n",
    "\n",
    "print(f\"Movies after merging on 'Title' and 'Release Year': {len(merged_on_title_release_year_slug.index)}\")"
   ]
  },
  {
   "cell_type": "markdown",
   "metadata": {},
   "source": [
    "### Slug of 'Title' and 'Director' as a Unique identifier column"
   ]
  },
  {
   "cell_type": "markdown",
   "metadata": {},
   "source": [
    "ISSUE: The 'directors' column on RT can contain multiple directors as a csv string\n",
    "\n",
    "ISSUE: The 'director' column on Netflix also can contain multiple directors as a csv string\n",
    "\n",
    "Try Merging anyway?\n",
    "- hopefully it's consistent between the two datasets"
   ]
  },
  {
   "cell_type": "code",
   "execution_count": 12,
   "metadata": {},
   "outputs": [],
   "source": [
    "netflix_movies_df[\"title_and_director\"] = netflix_movies_df[\"title\"] + \" \" + netflix_movies_df[\"director\"].astype(str)\n",
    "netflix_movies_df[\"title_and_director\"] = netflix_movies_df[\"title_and_director\"].apply(slugify.slugify)\n",
    "\n",
    "rotten_movies_df[\"title_and_director\"] = rotten_movies_df[\"movie_title\"] + \" \" + rotten_movies_df[\"directors\"].astype(str)\n",
    "rotten_movies_df[\"title_and_director\"] = rotten_movies_df[\"title_and_director\"].apply(slugify.slugify)"
   ]
  },
  {
   "cell_type": "code",
   "execution_count": 10,
   "metadata": {},
   "outputs": [
    {
     "name": "stdout",
     "output_type": "stream",
     "text": [
      "Movies after merging on 'Title' and 'Director(s)': 1547\n"
     ]
    }
   ],
   "source": [
    "merged_on_title_director_slug = pd.merge(netflix_movies_df, rotten_movies_df, how=\"inner\", on=\"title_and_director\", indicator=True)\n",
    "\n",
    "print(f\"Movies after merging on 'Title' and 'Director(s)': {len(merged_on_title_director_slug.index)}\")"
   ]
  },
  {
   "cell_type": "markdown",
   "metadata": {},
   "source": [
    "Try merging on 'First Director'\n",
    "\n",
    "Add column that is set to index 0 of splitting the director(s) column to each"
   ]
  },
  {
   "cell_type": "code",
   "execution_count": 14,
   "metadata": {},
   "outputs": [],
   "source": [
    "netflix_movies_df[\"title_and_first_director\"] = netflix_movies_df[\"title\"] + \" \" + netflix_movies_df[\"director\"].str.split(',').str[0].astype(str)\n",
    "netflix_movies_df[\"title_and_first_director\"] = netflix_movies_df[\"title_and_first_director\"].apply(slugify.slugify)\n",
    "\n",
    "rotten_movies_df[\"title_and_first_director\"] = rotten_movies_df[\"movie_title\"] + \" \" + rotten_movies_df[\"directors\"].str.split(',').str[0].astype(str)\n",
    "rotten_movies_df[\"title_and_first_director\"] = rotten_movies_df[\"title_and_first_director\"].apply(slugify.slugify)"
   ]
  },
  {
   "cell_type": "code",
   "execution_count": 15,
   "metadata": {},
   "outputs": [
    {
     "name": "stdout",
     "output_type": "stream",
     "text": [
      "Movies after merging on 'Title' and 'First Director': 1600\n"
     ]
    }
   ],
   "source": [
    "merged_on_title_first_director_slug = pd.merge(netflix_movies_df, rotten_movies_df, how=\"inner\", on=\"title_and_first_director\", indicator=True)\n",
    "\n",
    "print(f\"Movies after merging on 'Title' and 'First Director': {len(merged_on_title_first_director_slug.index)}\")"
   ]
  },
  {
   "cell_type": "markdown",
   "metadata": {},
   "source": [
    "Would it be possible to match on any variation of title plus director?\n",
    "\n",
    "Are there typos/changes in spelling between the director names? e.g. accents, special characters, apostrophe handling"
   ]
  },
  {
   "cell_type": "markdown",
   "metadata": {},
   "source": [
    "Is there another possible linking option?\n",
    "- runtime/duration => would needs to clean the 'mins' string part and convert to int\n",
    "- All other columns have either too much variety (e.g. 'cast' string) or are unique to that dataset => no overlap"
   ]
  },
  {
   "cell_type": "markdown",
   "metadata": {},
   "source": [
    "### Current best option\n",
    "\n",
    "Merge on Title and First Listed Director => 1600 entries"
   ]
  },
  {
   "cell_type": "code",
   "execution_count": 16,
   "metadata": {},
   "outputs": [
    {
     "data": {
      "image/png": "[encoded data removed]",
      "text/plain": [
       "<Figure size 432x288 with 1 Axes>"
      ]
     },
     "metadata": {},
     "output_type": "display_data"
    },
    {
     "name": "stdout",
     "output_type": "stream",
     "text": [
      "Netflix Only: 4531\n",
      "Netflix and on Rotten Tomatoes: 1600\n",
      "Netflix Total: 6131\n",
      "Not on Netflix: 16112\n"
     ]
    }
   ],
   "source": [
    "# library\n",
    "import matplotlib.pyplot as plt\n",
    "from matplotlib_venn import venn2\n",
    "\n",
    "merged_outer_title_first_director_slug = pd.merge(netflix_movies_df, rotten_movies_df, how=\"outer\", on=\"title_and_first_director\", indicator=True)\n",
    "\n",
    "mapping_dict = {\n",
    "  \"left_only\": \"Netflix\",\n",
    "  \"both\": \"Both\",\n",
    "  \"right_only\": \"Rotten Tomatoes\",\n",
    "}\n",
    "\n",
    "merged_outer_title_first_director_slug.rename(columns={\"_merge\":\"dataset_location\"}, inplace=True)\n",
    "merged_outer_title_first_director_slug.replace({\"dataset_location\": mapping_dict}, inplace=True)\n",
    "\n",
    "merged_on_title_first_director_slug = pd.merge(netflix_movies_df, rotten_movies_df, how=\"inner\", on=\"title_and_first_director\", indicator=True)\n",
    "\n",
    "netflix_count = len(merged_outer_title_first_director_slug[merged_outer_title_first_director_slug[\"dataset_location\"] == \"Netflix\"])\n",
    "rotten_tomatoes_count = len(merged_outer_title_first_director_slug[merged_outer_title_first_director_slug[\"dataset_location\"] == \"Rotten Tomatoes\"])\n",
    "overlap_count = len(merged_outer_title_first_director_slug[merged_outer_title_first_director_slug[\"dataset_location\"] == \"Both\"])\n",
    "\n",
    "missing_from_netflix_df = merged_outer_title_first_director_slug[merged_outer_title_first_director_slug[\"dataset_location\"] == \"Rotten Tomatoes\"]\n",
    "\n",
    "# Use the venn2 function\n",
    "venn2(subsets = (rotten_tomatoes_count, netflix_count, overlap_count), set_labels = ('Rotten Tomatoes', 'Netflix'))\n",
    "plt.show()\n",
    "\n",
    "print(f\"Netflix Only: {netflix_count}\")\n",
    "print(f\"Netflix and on Rotten Tomatoes: {overlap_count}\")\n",
    "print(f\"Netflix Total: {netflix_count + overlap_count}\")\n",
    "print(f\"Not on Netflix: {rotten_tomatoes_count}\")"
   ]
  },
  {
   "cell_type": "code",
   "execution_count": null,
   "metadata": {},
   "outputs": [],
   "source": []
  }
 ],
 "metadata": {
  "interpreter": {
   "hash": "52e7f5fcce8b0ede6edd5ceaee6994f4e42cce3448f2f62bc9070aef6b2855de"
  },
  "kernelspec": {
   "display_name": "Python 3.9.13 ('netflix-analysis-BB5axs-S')",
   "language": "python",
   "name": "python3"
  },
  "language_info": {
   "codemirror_mode": {
    "name": "ipython",
    "version": 3
   },
   "file_extension": ".py",
   "mimetype": "text/x-python",
   "name": "python",
   "nbconvert_exporter": "python",
   "pygments_lexer": "ipython3",
   "version": "3.9.13"
  },
  "orig_nbformat": 4
 },
 "nbformat": 4,
 "nbformat_minor": 2
}
