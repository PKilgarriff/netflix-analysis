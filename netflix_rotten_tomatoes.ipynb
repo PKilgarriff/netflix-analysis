{
 "cells": [
  {
   "cell_type": "markdown",
   "metadata": {},
   "source": [
    "# Analysis - Movie Subset of Netflix Data\n",
    "\n",
    "Enhanced by Rotten Tomatoes Dataset"
   ]
  },
  {
   "cell_type": "markdown",
   "metadata": {},
   "source": [
    "#### Import Libraries"
   ]
  },
  {
   "cell_type": "code",
   "execution_count": 2,
   "metadata": {},
   "outputs": [],
   "source": [
    "import pandas as pd\n",
    "import plotly.express as px"
   ]
  },
  {
   "cell_type": "markdown",
   "metadata": {},
   "source": [
    "Create DataFrame from Netflix CSV, filtered to just movies\n",
    "\n",
    "Create DataFrame from Rotten Tomatoes Movies CSV"
   ]
  },
  {
   "cell_type": "code",
   "execution_count": 3,
   "metadata": {},
   "outputs": [],
   "source": [
    "netflix_movies_df = pd.read_csv('./data/netflix-titles.csv')\n",
    "netflix_movies_df = netflix_movies_df[netflix_movies_df[\"type\"] == 'Movie']\n",
    "rotten_movies_df = pd.read_csv('./data/rotten_tomatoes_movies.csv')"
   ]
  },
  {
   "cell_type": "markdown",
   "metadata": {},
   "source": [
    "Extract release_year from Rotten Tomatoes original_release_date"
   ]
  },
  {
   "cell_type": "code",
   "execution_count": 4,
   "metadata": {},
   "outputs": [],
   "source": [
    "rotten_movies_df[\"release_year\"] = rotten_movies_df[\"original_release_date\"].str.split('-').str[0]"
   ]
  },
  {
   "cell_type": "markdown",
   "metadata": {},
   "source": [
    "Add Unique identifier column to both DataFrames for merging"
   ]
  },
  {
   "cell_type": "code",
   "execution_count": 5,
   "metadata": {},
   "outputs": [],
   "source": [
    "def combine_title_and_year_columns(dataframe, title_column, year_column, output_column):\n",
    "  dataframe[output_column] = dataframe[title_column].str.lower() + \" \" + netflix_movies_df[year_column].astype(str)\n",
    "\n",
    "netflix_movies_df[\"title_and_release_year\"] = netflix_movies_df[\"title\"].str.lower() + \" \" + netflix_movies_df[\"release_year\"].astype(str)\n",
    "# combine_columns(netflix_movies_df, \"title\", \"release_year\", output_column=\"title_and_release_year\")\n",
    "rotten_movies_df[\"title_and_release_year\"] = rotten_movies_df[\"movie_title\"].str.lower() + \" \" + rotten_movies_df[\"release_year\"].astype(str)\n",
    "# combine_columns(rotten_movies_df, \"movie_title\", \"release_year\", output_column=\"title_and_release_year\")"
   ]
  },
  {
   "cell_type": "markdown",
   "metadata": {},
   "source": [
    "Merge the above datasets, returning only those that exist in both sets"
   ]
  },
  {
   "cell_type": "code",
   "execution_count": 6,
   "metadata": {},
   "outputs": [
    {
     "data": {
      "text/html": [
       "<div>\n",
       "<style scoped>\n",
       "    .dataframe tbody tr th:only-of-type {\n",
       "        vertical-align: middle;\n",
       "    }\n",
       "\n",
       "    .dataframe tbody tr th {\n",
       "        vertical-align: top;\n",
       "    }\n",
       "\n",
       "    .dataframe thead th {\n",
       "        text-align: right;\n",
       "    }\n",
       "</style>\n",
       "<table border=\"1\" class=\"dataframe\">\n",
       "  <thead>\n",
       "    <tr style=\"text-align: right;\">\n",
       "      <th></th>\n",
       "      <th>release_year_x</th>\n",
       "      <th>runtime</th>\n",
       "      <th>tomatometer_rating</th>\n",
       "      <th>tomatometer_count</th>\n",
       "      <th>audience_rating</th>\n",
       "      <th>audience_count</th>\n",
       "      <th>tomatometer_top_critics_count</th>\n",
       "      <th>tomatometer_fresh_critics_count</th>\n",
       "      <th>tomatometer_rotten_critics_count</th>\n",
       "    </tr>\n",
       "  </thead>\n",
       "  <tbody>\n",
       "    <tr>\n",
       "      <th>count</th>\n",
       "      <td>1252.000000</td>\n",
       "      <td>1232.000000</td>\n",
       "      <td>1251.000000</td>\n",
       "      <td>1251.000000</td>\n",
       "      <td>1248.000000</td>\n",
       "      <td>1.248000e+03</td>\n",
       "      <td>1252.000000</td>\n",
       "      <td>1252.000000</td>\n",
       "      <td>1252.000000</td>\n",
       "    </tr>\n",
       "    <tr>\n",
       "      <th>mean</th>\n",
       "      <td>2008.528754</td>\n",
       "      <td>107.604708</td>\n",
       "      <td>59.055156</td>\n",
       "      <td>102.459632</td>\n",
       "      <td>61.138622</td>\n",
       "      <td>4.664194e+05</td>\n",
       "      <td>24.381789</td>\n",
       "      <td>64.581470</td>\n",
       "      <td>37.818690</td>\n",
       "    </tr>\n",
       "    <tr>\n",
       "      <th>std</th>\n",
       "      <td>11.077374</td>\n",
       "      <td>20.597857</td>\n",
       "      <td>28.775451</td>\n",
       "      <td>85.067835</td>\n",
       "      <td>20.222044</td>\n",
       "      <td>3.310599e+06</td>\n",
       "      <td>17.706812</td>\n",
       "      <td>71.982482</td>\n",
       "      <td>39.504686</td>\n",
       "    </tr>\n",
       "    <tr>\n",
       "      <th>min</th>\n",
       "      <td>1954.000000</td>\n",
       "      <td>40.000000</td>\n",
       "      <td>0.000000</td>\n",
       "      <td>5.000000</td>\n",
       "      <td>8.000000</td>\n",
       "      <td>6.000000e+00</td>\n",
       "      <td>0.000000</td>\n",
       "      <td>0.000000</td>\n",
       "      <td>0.000000</td>\n",
       "    </tr>\n",
       "    <tr>\n",
       "      <th>25%</th>\n",
       "      <td>2004.000000</td>\n",
       "      <td>93.000000</td>\n",
       "      <td>35.000000</td>\n",
       "      <td>30.500000</td>\n",
       "      <td>46.000000</td>\n",
       "      <td>1.461500e+03</td>\n",
       "      <td>8.000000</td>\n",
       "      <td>13.000000</td>\n",
       "      <td>7.000000</td>\n",
       "    </tr>\n",
       "    <tr>\n",
       "      <th>50%</th>\n",
       "      <td>2012.000000</td>\n",
       "      <td>103.000000</td>\n",
       "      <td>63.000000</td>\n",
       "      <td>80.000000</td>\n",
       "      <td>63.000000</td>\n",
       "      <td>2.680450e+04</td>\n",
       "      <td>21.000000</td>\n",
       "      <td>39.000000</td>\n",
       "      <td>22.000000</td>\n",
       "    </tr>\n",
       "    <tr>\n",
       "      <th>75%</th>\n",
       "      <td>2017.000000</td>\n",
       "      <td>118.000000</td>\n",
       "      <td>85.500000</td>\n",
       "      <td>158.000000</td>\n",
       "      <td>77.250000</td>\n",
       "      <td>1.685648e+05</td>\n",
       "      <td>39.000000</td>\n",
       "      <td>89.000000</td>\n",
       "      <td>59.000000</td>\n",
       "    </tr>\n",
       "    <tr>\n",
       "      <th>max</th>\n",
       "      <td>2020.000000</td>\n",
       "      <td>213.000000</td>\n",
       "      <td>100.000000</td>\n",
       "      <td>512.000000</td>\n",
       "      <td>99.000000</td>\n",
       "      <td>3.467977e+07</td>\n",
       "      <td>65.000000</td>\n",
       "      <td>495.000000</td>\n",
       "      <td>196.000000</td>\n",
       "    </tr>\n",
       "  </tbody>\n",
       "</table>\n",
       "</div>"
      ],
      "text/plain": [
       "       release_year_x      runtime  tomatometer_rating  tomatometer_count  \\\n",
       "count     1252.000000  1232.000000         1251.000000        1251.000000   \n",
       "mean      2008.528754   107.604708           59.055156         102.459632   \n",
       "std         11.077374    20.597857           28.775451          85.067835   \n",
       "min       1954.000000    40.000000            0.000000           5.000000   \n",
       "25%       2004.000000    93.000000           35.000000          30.500000   \n",
       "50%       2012.000000   103.000000           63.000000          80.000000   \n",
       "75%       2017.000000   118.000000           85.500000         158.000000   \n",
       "max       2020.000000   213.000000          100.000000         512.000000   \n",
       "\n",
       "       audience_rating  audience_count  tomatometer_top_critics_count  \\\n",
       "count      1248.000000    1.248000e+03                    1252.000000   \n",
       "mean         61.138622    4.664194e+05                      24.381789   \n",
       "std          20.222044    3.310599e+06                      17.706812   \n",
       "min           8.000000    6.000000e+00                       0.000000   \n",
       "25%          46.000000    1.461500e+03                       8.000000   \n",
       "50%          63.000000    2.680450e+04                      21.000000   \n",
       "75%          77.250000    1.685648e+05                      39.000000   \n",
       "max          99.000000    3.467977e+07                      65.000000   \n",
       "\n",
       "       tomatometer_fresh_critics_count  tomatometer_rotten_critics_count  \n",
       "count                      1252.000000                       1252.000000  \n",
       "mean                         64.581470                         37.818690  \n",
       "std                          71.982482                         39.504686  \n",
       "min                           0.000000                          0.000000  \n",
       "25%                          13.000000                          7.000000  \n",
       "50%                          39.000000                         22.000000  \n",
       "75%                          89.000000                         59.000000  \n",
       "max                         495.000000                        196.000000  "
      ]
     },
     "execution_count": 6,
     "metadata": {},
     "output_type": "execute_result"
    }
   ],
   "source": [
    "netflix_plus_rt_df = pd.merge(netflix_movies_df, rotten_movies_df, how=\"inner\", on=\"title_and_release_year\")\n",
    "after_manual_join = netflix_plus_rt_df[\"title\"].count()\n",
    "netflix_plus_rt_df.describe()"
   ]
  },
  {
   "cell_type": "markdown",
   "metadata": {},
   "source": [
    "# Histogram - Netflix Catalogue of Movies by Release Year\n",
    "\n",
    "Stacked by Rotten Tomatoes Tomatometer status\n",
    "- ranges from Rotten to Certified Fresh\n",
    "- [Rotten Tomatoes Explained](rottentomatoes.com/about)"
   ]
  },
  {
   "cell_type": "code",
   "execution_count": 7,
   "metadata": {},
   "outputs": [
    {
     "data": {
      "application/vnd.plotly.v1+json": {
       "config": {
        "plotlyServerURL": "https://plot.ly"
       },
       "data": [
        {
         "alignmentgroup": "True",
         "bingroup": "x",
         "hovertemplate": "tomatometer_status=Rotten<br>Release Year=%{x}<br>count=%{y}<extra></extra>",
         "legendgroup": "Rotten",
         "marker": {
          "color": "hsl(6, 78%, 66%)",
          "pattern": {
           "shape": ""
          }
         },
         "name": "Rotten",
         "offsetgroup": "Rotten",
         "orientation": "v",
         "showlegend": true,
         "type": "histogram",
         "x": [
          2020,
          2020,
          2020,
          2020,
          2020,
          2020,
          2020,
          2020,
          2020,
          2019,
          2019,
          2019,
          2019,
          2019,
          2019,
          2019,
          2019,
          2019,
          2019,
          2019,
          2019,
          2019,
          2019,
          2019,
          2019,
          2019,
          2019,
          2019,
          2019,
          2019,
          2019,
          2019,
          2019,
          2019,
          2019,
          2019,
          2019,
          2019,
          2019,
          2019,
          2019,
          2018,
          2018,
          2018,
          2018,
          2018,
          2018,
          2018,
          2018,
          2018,
          2018,
          2018,
          2018,
          2018,
          2018,
          2018,
          2018,
          2018,
          2018,
          2018,
          2018,
          2018,
          2018,
          2018,
          2018,
          2018,
          2018,
          2018,
          2018,
          2018,
          2018,
          2018,
          2018,
          2018,
          2018,
          2018,
          2018,
          2018,
          2018,
          2018,
          2018,
          2018,
          2018,
          2018,
          2018,
          2018,
          2018,
          2018,
          2018,
          2018,
          2018,
          2018,
          2018,
          2017,
          2017,
          2017,
          2017,
          2017,
          2017,
          2017,
          2017,
          2017,
          2017,
          2017,
          2017,
          2017,
          2017,
          2017,
          2017,
          2017,
          2017,
          2017,
          2017,
          2017,
          2017,
          2017,
          2017,
          2017,
          2017,
          2017,
          2017,
          2017,
          2017,
          2017,
          2017,
          2017,
          2017,
          2017,
          2017,
          2017,
          2017,
          2016,
          2016,
          2016,
          2016,
          2016,
          2016,
          2016,
          2016,
          2016,
          2016,
          2016,
          2016,
          2016,
          2016,
          2016,
          2016,
          2016,
          2016,
          2016,
          2016,
          2016,
          2016,
          2016,
          2016,
          2016,
          2016,
          2016,
          2016,
          2016,
          2016,
          2016,
          2016,
          2016,
          2016,
          2016,
          2015,
          2015,
          2015,
          2015,
          2015,
          2015,
          2015,
          2015,
          2015,
          2015,
          2015,
          2015,
          2015,
          2015,
          2015,
          2015,
          2015,
          2015,
          2015,
          2015,
          2015,
          2015,
          2015,
          2015,
          2014,
          2014,
          2014,
          2014,
          2014,
          2014,
          2014,
          2014,
          2014,
          2014,
          2014,
          2014,
          2014,
          2014,
          2014,
          2014,
          2014,
          2014,
          2014,
          2014,
          2014,
          2014,
          2014,
          2014,
          2014,
          2014,
          2013,
          2013,
          2013,
          2013,
          2013,
          2013,
          2013,
          2013,
          2013,
          2013,
          2013,
          2013,
          2013,
          2013,
          2013,
          2013,
          2013,
          2013,
          2013,
          2013,
          2013,
          2013,
          2013,
          2013,
          2013,
          2012,
          2012,
          2012,
          2012,
          2012,
          2012,
          2012,
          2012,
          2012,
          2012,
          2012,
          2012,
          2012,
          2012,
          2012,
          2012,
          2012,
          2012,
          2011,
          2011,
          2011,
          2011,
          2011,
          2011,
          2011,
          2011,
          2011,
          2011,
          2011,
          2011,
          2011,
          2011,
          2011,
          2011,
          2011,
          2011,
          2011,
          2011,
          2011,
          2011,
          2010,
          2010,
          2010,
          2010,
          2010,
          2010,
          2010,
          2010,
          2010,
          2010,
          2010,
          2010,
          2010,
          2010,
          2010,
          2010,
          2010,
          2010,
          2010,
          2010,
          2010,
          2010,
          2010,
          2010,
          2010,
          2010,
          2010,
          2010,
          2010,
          2010,
          2010,
          2010,
          2010,
          2010,
          2010,
          2010,
          2010,
          2010,
          2009,
          2009,
          2009,
          2009,
          2009,
          2009,
          2009,
          2009,
          2009,
          2009,
          2009,
          2009,
          2009,
          2009,
          2009,
          2009,
          2009,
          2009,
          2009,
          2009,
          2009,
          2009,
          2009,
          2009,
          2009,
          2009,
          2009,
          2008,
          2008,
          2008,
          2008,
          2008,
          2008,
          2008,
          2008,
          2008,
          2008,
          2008,
          2008,
          2008,
          2008,
          2008,
          2008,
          2008,
          2008,
          2008,
          2008,
          2008,
          2008,
          2008,
          2008,
          2008,
          2008,
          2008,
          2007,
          2007,
          2007,
          2007,
          2007,
          2007,
          2007,
          2007,
          2007,
          2007,
          2007,
          2007,
          2007,
          2007,
          2007,
          2007,
          2007,
          2007,
          2007,
          2007,
          2006,
          2006,
          2006,
          2006,
          2006,
          2006,
          2006,
          2006,
          2006,
          2006,
          2006,
          2006,
          2006,
          2006,
          2006,
          2006,
          2006,
          2006,
          2006,
          2006,
          2005,
          2005,
          2005,
          2005,
          2005,
          2005,
          2005,
          2005,
          2005,
          2005,
          2005,
          2005,
          2005,
          2005,
          2005,
          2004,
          2004,
          2004,
          2004,
          2004,
          2004,
          2004,
          2004,
          2004,
          2004,
          2003,
          2003,
          2003,
          2003,
          2003,
          2003,
          2003,
          2003,
          2003,
          2003,
          2003,
          2003,
          2003,
          2003,
          2003,
          2003,
          2003,
          2003,
          2003,
          2002,
          2002,
          2002,
          2002,
          2002,
          2002,
          2002,
          2002,
          2002,
          2002,
          2002,
          2002,
          2001,
          2001,
          2001,
          2001,
          2001,
          2001,
          2001,
          2001,
          2001,
          2001,
          2001,
          2001,
          2001,
          2001,
          2001,
          2000,
          2000,
          2000,
          2000,
          2000,
          2000,
          2000,
          2000,
          2000,
          2000,
          2000,
          2000,
          2000
         ],
         "xaxis": "x",
         "yaxis": "y"
        },
        {
         "alignmentgroup": "True",
         "bingroup": "x",
         "hovertemplate": "tomatometer_status=Fresh<br>Release Year=%{x}<br>count=%{y}<extra></extra>",
         "legendgroup": "Fresh",
         "marker": {
          "color": "hsl(48, 89%, 60%)",
          "pattern": {
           "shape": ""
          }
         },
         "name": "Fresh",
         "offsetgroup": "Fresh",
         "orientation": "v",
         "showlegend": true,
         "type": "histogram",
         "x": [
          2020,
          2020,
          2020,
          2020,
          2020,
          2020,
          2019,
          2019,
          2019,
          2019,
          2019,
          2019,
          2019,
          2019,
          2019,
          2019,
          2019,
          2019,
          2019,
          2019,
          2019,
          2019,
          2019,
          2019,
          2019,
          2019,
          2019,
          2018,
          2018,
          2018,
          2018,
          2018,
          2018,
          2018,
          2018,
          2018,
          2018,
          2018,
          2018,
          2018,
          2018,
          2018,
          2018,
          2018,
          2018,
          2018,
          2018,
          2018,
          2018,
          2018,
          2018,
          2018,
          2018,
          2018,
          2018,
          2018,
          2018,
          2018,
          2018,
          2018,
          2018,
          2018,
          2018,
          2018,
          2018,
          2018,
          2018,
          2018,
          2018,
          2018,
          2018,
          2018,
          2018,
          2018,
          2018,
          2018,
          2018,
          2018,
          2018,
          2017,
          2017,
          2017,
          2017,
          2017,
          2017,
          2017,
          2017,
          2017,
          2017,
          2017,
          2017,
          2017,
          2017,
          2017,
          2017,
          2017,
          2017,
          2017,
          2017,
          2017,
          2017,
          2017,
          2017,
          2017,
          2017,
          2017,
          2017,
          2017,
          2017,
          2017,
          2017,
          2017,
          2017,
          2017,
          2017,
          2017,
          2017,
          2017,
          2017,
          2017,
          2016,
          2016,
          2016,
          2016,
          2016,
          2016,
          2016,
          2016,
          2016,
          2016,
          2016,
          2016,
          2016,
          2016,
          2016,
          2016,
          2016,
          2016,
          2016,
          2016,
          2016,
          2016,
          2016,
          2016,
          2016,
          2016,
          2016,
          2015,
          2015,
          2015,
          2015,
          2015,
          2015,
          2015,
          2015,
          2015,
          2015,
          2015,
          2015,
          2014,
          2014,
          2014,
          2014,
          2014,
          2014,
          2014,
          2013,
          2013,
          2013,
          2013,
          2013,
          2013,
          2013,
          2013,
          2013,
          2013,
          2013,
          2013,
          2013,
          2012,
          2012,
          2012,
          2012,
          2012,
          2012,
          2011,
          2011,
          2011,
          2011,
          2011,
          2011,
          2011,
          2011,
          2010,
          2010,
          2010,
          2010,
          2010,
          2010,
          2010,
          2009,
          2009,
          2009,
          2009,
          2009,
          2009,
          2009,
          2008,
          2008,
          2008,
          2008,
          2008,
          2008,
          2008,
          2008,
          2008,
          2008,
          2008,
          2007,
          2007,
          2007,
          2007,
          2007,
          2007,
          2007,
          2007,
          2006,
          2006,
          2006,
          2006,
          2005,
          2005,
          2005,
          2004,
          2004,
          2004,
          2004,
          2003,
          2003,
          2003,
          2003,
          2002,
          2002,
          2002,
          2001,
          2001,
          2001,
          2001,
          2000,
          2000
         ],
         "xaxis": "x",
         "yaxis": "y"
        },
        {
         "alignmentgroup": "True",
         "bingroup": "x",
         "hovertemplate": "tomatometer_status=Certified-Fresh<br>Release Year=%{x}<br>count=%{y}<extra></extra>",
         "legendgroup": "Certified-Fresh",
         "marker": {
          "color": "hsl(145, 61%, 59%)",
          "pattern": {
           "shape": ""
          }
         },
         "name": "Certified-Fresh",
         "offsetgroup": "Certified-Fresh",
         "orientation": "v",
         "showlegend": true,
         "type": "histogram",
         "x": [
          2020,
          2020,
          2020,
          2020,
          2019,
          2019,
          2019,
          2019,
          2019,
          2019,
          2019,
          2019,
          2019,
          2019,
          2019,
          2019,
          2019,
          2019,
          2019,
          2019,
          2019,
          2019,
          2019,
          2019,
          2019,
          2018,
          2018,
          2018,
          2018,
          2018,
          2018,
          2018,
          2018,
          2018,
          2018,
          2018,
          2018,
          2018,
          2018,
          2018,
          2018,
          2018,
          2018,
          2018,
          2018,
          2018,
          2018,
          2018,
          2018,
          2018,
          2018,
          2018,
          2018,
          2018,
          2018,
          2018,
          2017,
          2017,
          2017,
          2017,
          2017,
          2017,
          2017,
          2017,
          2017,
          2017,
          2017,
          2017,
          2017,
          2017,
          2017,
          2017,
          2017,
          2017,
          2017,
          2017,
          2017,
          2017,
          2017,
          2017,
          2017,
          2017,
          2017,
          2017,
          2017,
          2017,
          2017,
          2017,
          2017,
          2017,
          2016,
          2016,
          2016,
          2016,
          2016,
          2016,
          2016,
          2016,
          2016,
          2016,
          2016,
          2016,
          2016,
          2016,
          2016,
          2016,
          2016,
          2016,
          2016,
          2016,
          2016,
          2016,
          2016,
          2016,
          2016,
          2016,
          2016,
          2016,
          2016,
          2015,
          2015,
          2015,
          2015,
          2015,
          2015,
          2015,
          2015,
          2015,
          2015,
          2015,
          2015,
          2015,
          2015,
          2015,
          2015,
          2015,
          2015,
          2015,
          2014,
          2014,
          2014,
          2014,
          2014,
          2014,
          2014,
          2014,
          2014,
          2014,
          2014,
          2013,
          2013,
          2013,
          2013,
          2013,
          2013,
          2013,
          2013,
          2013,
          2013,
          2013,
          2013,
          2013,
          2013,
          2013,
          2013,
          2013,
          2013,
          2013,
          2012,
          2012,
          2012,
          2012,
          2012,
          2012,
          2012,
          2012,
          2012,
          2012,
          2012,
          2012,
          2012,
          2012,
          2012,
          2012,
          2012,
          2012,
          2011,
          2011,
          2011,
          2011,
          2011,
          2011,
          2011,
          2011,
          2011,
          2011,
          2011,
          2011,
          2011,
          2011,
          2011,
          2011,
          2011,
          2011,
          2010,
          2010,
          2010,
          2010,
          2010,
          2010,
          2010,
          2010,
          2010,
          2010,
          2009,
          2009,
          2009,
          2009,
          2009,
          2009,
          2009,
          2009,
          2009,
          2009,
          2009,
          2009,
          2009,
          2009,
          2009,
          2009,
          2009,
          2008,
          2008,
          2008,
          2008,
          2008,
          2008,
          2008,
          2008,
          2008,
          2008,
          2008,
          2007,
          2007,
          2007,
          2007,
          2007,
          2007,
          2007,
          2007,
          2007,
          2007,
          2006,
          2006,
          2006,
          2006,
          2006,
          2006,
          2006,
          2006,
          2006,
          2005,
          2005,
          2005,
          2005,
          2005,
          2005,
          2004,
          2004,
          2004,
          2004,
          2004,
          2004,
          2003,
          2003,
          2003,
          2003,
          2003,
          2002,
          2002,
          2002,
          2002,
          2002,
          2002,
          2002,
          2002,
          2001,
          2001,
          2001,
          2001,
          2001,
          2000,
          2000,
          2000
         ],
         "xaxis": "x",
         "yaxis": "y"
        }
       ],
       "layout": {
        "barmode": "group",
        "legend": {
         "title": {
          "text": "tomatometer_status"
         },
         "tracegroupgap": 0
        },
        "template": {
         "data": {
          "bar": [
           {
            "error_x": {
             "color": "#2a3f5f"
            },
            "error_y": {
             "color": "#2a3f5f"
            },
            "marker": {
             "line": {
              "color": "#E5ECF6",
              "width": 0.5
             },
             "pattern": {
              "fillmode": "overlay",
              "size": 10,
              "solidity": 0.2
             }
            },
            "type": "bar"
           }
          ],
          "barpolar": [
           {
            "marker": {
             "line": {
              "color": "#E5ECF6",
              "width": 0.5
             },
             "pattern": {
              "fillmode": "overlay",
              "size": 10,
              "solidity": 0.2
             }
            },
            "type": "barpolar"
           }
          ],
          "carpet": [
           {
            "aaxis": {
             "endlinecolor": "#2a3f5f",
             "gridcolor": "white",
             "linecolor": "white",
             "minorgridcolor": "white",
             "startlinecolor": "#2a3f5f"
            },
            "baxis": {
             "endlinecolor": "#2a3f5f",
             "gridcolor": "white",
             "linecolor": "white",
             "minorgridcolor": "white",
             "startlinecolor": "#2a3f5f"
            },
            "type": "carpet"
           }
          ],
          "choropleth": [
           {
            "colorbar": {
             "outlinewidth": 0,
             "ticks": ""
            },
            "type": "choropleth"
           }
          ],
          "contour": [
           {
            "colorbar": {
             "outlinewidth": 0,
             "ticks": ""
            },
            "colorscale": [
             [
              0,
              "#0d0887"
             ],
             [
              0.1111111111111111,
              "#46039f"
             ],
             [
              0.2222222222222222,
              "#7201a8"
             ],
             [
              0.3333333333333333,
              "#9c179e"
             ],
             [
              0.4444444444444444,
              "#bd3786"
             ],
             [
              0.5555555555555556,
              "#d8576b"
             ],
             [
              0.6666666666666666,
              "#ed7953"
             ],
             [
              0.7777777777777778,
              "#fb9f3a"
             ],
             [
              0.8888888888888888,
              "#fdca26"
             ],
             [
              1,
              "#f0f921"
             ]
            ],
            "type": "contour"
           }
          ],
          "contourcarpet": [
           {
            "colorbar": {
             "outlinewidth": 0,
             "ticks": ""
            },
            "type": "contourcarpet"
           }
          ],
          "heatmap": [
           {
            "colorbar": {
             "outlinewidth": 0,
             "ticks": ""
            },
            "colorscale": [
             [
              0,
              "#0d0887"
             ],
             [
              0.1111111111111111,
              "#46039f"
             ],
             [
              0.2222222222222222,
              "#7201a8"
             ],
             [
              0.3333333333333333,
              "#9c179e"
             ],
             [
              0.4444444444444444,
              "#bd3786"
             ],
             [
              0.5555555555555556,
              "#d8576b"
             ],
             [
              0.6666666666666666,
              "#ed7953"
             ],
             [
              0.7777777777777778,
              "#fb9f3a"
             ],
             [
              0.8888888888888888,
              "#fdca26"
             ],
             [
              1,
              "#f0f921"
             ]
            ],
            "type": "heatmap"
           }
          ],
          "heatmapgl": [
           {
            "colorbar": {
             "outlinewidth": 0,
             "ticks": ""
            },
            "colorscale": [
             [
              0,
              "#0d0887"
             ],
             [
              0.1111111111111111,
              "#46039f"
             ],
             [
              0.2222222222222222,
              "#7201a8"
             ],
             [
              0.3333333333333333,
              "#9c179e"
             ],
             [
              0.4444444444444444,
              "#bd3786"
             ],
             [
              0.5555555555555556,
              "#d8576b"
             ],
             [
              0.6666666666666666,
              "#ed7953"
             ],
             [
              0.7777777777777778,
              "#fb9f3a"
             ],
             [
              0.8888888888888888,
              "#fdca26"
             ],
             [
              1,
              "#f0f921"
             ]
            ],
            "type": "heatmapgl"
           }
          ],
          "histogram": [
           {
            "marker": {
             "pattern": {
              "fillmode": "overlay",
              "size": 10,
              "solidity": 0.2
             }
            },
            "type": "histogram"
           }
          ],
          "histogram2d": [
           {
            "colorbar": {
             "outlinewidth": 0,
             "ticks": ""
            },
            "colorscale": [
             [
              0,
              "#0d0887"
             ],
             [
              0.1111111111111111,
              "#46039f"
             ],
             [
              0.2222222222222222,
              "#7201a8"
             ],
             [
              0.3333333333333333,
              "#9c179e"
             ],
             [
              0.4444444444444444,
              "#bd3786"
             ],
             [
              0.5555555555555556,
              "#d8576b"
             ],
             [
              0.6666666666666666,
              "#ed7953"
             ],
             [
              0.7777777777777778,
              "#fb9f3a"
             ],
             [
              0.8888888888888888,
              "#fdca26"
             ],
             [
              1,
              "#f0f921"
             ]
            ],
            "type": "histogram2d"
           }
          ],
          "histogram2dcontour": [
           {
            "colorbar": {
             "outlinewidth": 0,
             "ticks": ""
            },
            "colorscale": [
             [
              0,
              "#0d0887"
             ],
             [
              0.1111111111111111,
              "#46039f"
             ],
             [
              0.2222222222222222,
              "#7201a8"
             ],
             [
              0.3333333333333333,
              "#9c179e"
             ],
             [
              0.4444444444444444,
              "#bd3786"
             ],
             [
              0.5555555555555556,
              "#d8576b"
             ],
             [
              0.6666666666666666,
              "#ed7953"
             ],
             [
              0.7777777777777778,
              "#fb9f3a"
             ],
             [
              0.8888888888888888,
              "#fdca26"
             ],
             [
              1,
              "#f0f921"
             ]
            ],
            "type": "histogram2dcontour"
           }
          ],
          "mesh3d": [
           {
            "colorbar": {
             "outlinewidth": 0,
             "ticks": ""
            },
            "type": "mesh3d"
           }
          ],
          "parcoords": [
           {
            "line": {
             "colorbar": {
              "outlinewidth": 0,
              "ticks": ""
             }
            },
            "type": "parcoords"
           }
          ],
          "pie": [
           {
            "automargin": true,
            "type": "pie"
           }
          ],
          "scatter": [
           {
            "fillpattern": {
             "fillmode": "overlay",
             "size": 10,
             "solidity": 0.2
            },
            "type": "scatter"
           }
          ],
          "scatter3d": [
           {
            "line": {
             "colorbar": {
              "outlinewidth": 0,
              "ticks": ""
             }
            },
            "marker": {
             "colorbar": {
              "outlinewidth": 0,
              "ticks": ""
             }
            },
            "type": "scatter3d"
           }
          ],
          "scattercarpet": [
           {
            "marker": {
             "colorbar": {
              "outlinewidth": 0,
              "ticks": ""
             }
            },
            "type": "scattercarpet"
           }
          ],
          "scattergeo": [
           {
            "marker": {
             "colorbar": {
              "outlinewidth": 0,
              "ticks": ""
             }
            },
            "type": "scattergeo"
           }
          ],
          "scattergl": [
           {
            "marker": {
             "colorbar": {
              "outlinewidth": 0,
              "ticks": ""
             }
            },
            "type": "scattergl"
           }
          ],
          "scattermapbox": [
           {
            "marker": {
             "colorbar": {
              "outlinewidth": 0,
              "ticks": ""
             }
            },
            "type": "scattermapbox"
           }
          ],
          "scatterpolar": [
           {
            "marker": {
             "colorbar": {
              "outlinewidth": 0,
              "ticks": ""
             }
            },
            "type": "scatterpolar"
           }
          ],
          "scatterpolargl": [
           {
            "marker": {
             "colorbar": {
              "outlinewidth": 0,
              "ticks": ""
             }
            },
            "type": "scatterpolargl"
           }
          ],
          "scatterternary": [
           {
            "marker": {
             "colorbar": {
              "outlinewidth": 0,
              "ticks": ""
             }
            },
            "type": "scatterternary"
           }
          ],
          "surface": [
           {
            "colorbar": {
             "outlinewidth": 0,
             "ticks": ""
            },
            "colorscale": [
             [
              0,
              "#0d0887"
             ],
             [
              0.1111111111111111,
              "#46039f"
             ],
             [
              0.2222222222222222,
              "#7201a8"
             ],
             [
              0.3333333333333333,
              "#9c179e"
             ],
             [
              0.4444444444444444,
              "#bd3786"
             ],
             [
              0.5555555555555556,
              "#d8576b"
             ],
             [
              0.6666666666666666,
              "#ed7953"
             ],
             [
              0.7777777777777778,
              "#fb9f3a"
             ],
             [
              0.8888888888888888,
              "#fdca26"
             ],
             [
              1,
              "#f0f921"
             ]
            ],
            "type": "surface"
           }
          ],
          "table": [
           {
            "cells": {
             "fill": {
              "color": "#EBF0F8"
             },
             "line": {
              "color": "white"
             }
            },
            "header": {
             "fill": {
              "color": "#C8D4E3"
             },
             "line": {
              "color": "white"
             }
            },
            "type": "table"
           }
          ]
         },
         "layout": {
          "annotationdefaults": {
           "arrowcolor": "#2a3f5f",
           "arrowhead": 0,
           "arrowwidth": 1
          },
          "autotypenumbers": "strict",
          "coloraxis": {
           "colorbar": {
            "outlinewidth": 0,
            "ticks": ""
           }
          },
          "colorscale": {
           "diverging": [
            [
             0,
             "#8e0152"
            ],
            [
             0.1,
             "#c51b7d"
            ],
            [
             0.2,
             "#de77ae"
            ],
            [
             0.3,
             "#f1b6da"
            ],
            [
             0.4,
             "#fde0ef"
            ],
            [
             0.5,
             "#f7f7f7"
            ],
            [
             0.6,
             "#e6f5d0"
            ],
            [
             0.7,
             "#b8e186"
            ],
            [
             0.8,
             "#7fbc41"
            ],
            [
             0.9,
             "#4d9221"
            ],
            [
             1,
             "#276419"
            ]
           ],
           "sequential": [
            [
             0,
             "#0d0887"
            ],
            [
             0.1111111111111111,
             "#46039f"
            ],
            [
             0.2222222222222222,
             "#7201a8"
            ],
            [
             0.3333333333333333,
             "#9c179e"
            ],
            [
             0.4444444444444444,
             "#bd3786"
            ],
            [
             0.5555555555555556,
             "#d8576b"
            ],
            [
             0.6666666666666666,
             "#ed7953"
            ],
            [
             0.7777777777777778,
             "#fb9f3a"
            ],
            [
             0.8888888888888888,
             "#fdca26"
            ],
            [
             1,
             "#f0f921"
            ]
           ],
           "sequentialminus": [
            [
             0,
             "#0d0887"
            ],
            [
             0.1111111111111111,
             "#46039f"
            ],
            [
             0.2222222222222222,
             "#7201a8"
            ],
            [
             0.3333333333333333,
             "#9c179e"
            ],
            [
             0.4444444444444444,
             "#bd3786"
            ],
            [
             0.5555555555555556,
             "#d8576b"
            ],
            [
             0.6666666666666666,
             "#ed7953"
            ],
            [
             0.7777777777777778,
             "#fb9f3a"
            ],
            [
             0.8888888888888888,
             "#fdca26"
            ],
            [
             1,
             "#f0f921"
            ]
           ]
          },
          "colorway": [
           "#636efa",
           "#EF553B",
           "#00cc96",
           "#ab63fa",
           "#FFA15A",
           "#19d3f3",
           "#FF6692",
           "#B6E880",
           "#FF97FF",
           "#FECB52"
          ],
          "font": {
           "color": "#2a3f5f"
          },
          "geo": {
           "bgcolor": "white",
           "lakecolor": "white",
           "landcolor": "#E5ECF6",
           "showlakes": true,
           "showland": true,
           "subunitcolor": "white"
          },
          "hoverlabel": {
           "align": "left"
          },
          "hovermode": "closest",
          "mapbox": {
           "style": "light"
          },
          "paper_bgcolor": "white",
          "plot_bgcolor": "#E5ECF6",
          "polar": {
           "angularaxis": {
            "gridcolor": "white",
            "linecolor": "white",
            "ticks": ""
           },
           "bgcolor": "#E5ECF6",
           "radialaxis": {
            "gridcolor": "white",
            "linecolor": "white",
            "ticks": ""
           }
          },
          "scene": {
           "xaxis": {
            "backgroundcolor": "#E5ECF6",
            "gridcolor": "white",
            "gridwidth": 2,
            "linecolor": "white",
            "showbackground": true,
            "ticks": "",
            "zerolinecolor": "white"
           },
           "yaxis": {
            "backgroundcolor": "#E5ECF6",
            "gridcolor": "white",
            "gridwidth": 2,
            "linecolor": "white",
            "showbackground": true,
            "ticks": "",
            "zerolinecolor": "white"
           },
           "zaxis": {
            "backgroundcolor": "#E5ECF6",
            "gridcolor": "white",
            "gridwidth": 2,
            "linecolor": "white",
            "showbackground": true,
            "ticks": "",
            "zerolinecolor": "white"
           }
          },
          "shapedefaults": {
           "line": {
            "color": "#2a3f5f"
           }
          },
          "ternary": {
           "aaxis": {
            "gridcolor": "white",
            "linecolor": "white",
            "ticks": ""
           },
           "baxis": {
            "gridcolor": "white",
            "linecolor": "white",
            "ticks": ""
           },
           "bgcolor": "#E5ECF6",
           "caxis": {
            "gridcolor": "white",
            "linecolor": "white",
            "ticks": ""
           }
          },
          "title": {
           "x": 0.05
          },
          "xaxis": {
           "automargin": true,
           "gridcolor": "white",
           "linecolor": "white",
           "ticks": "",
           "title": {
            "standoff": 15
           },
           "zerolinecolor": "white",
           "zerolinewidth": 2
          },
          "yaxis": {
           "automargin": true,
           "gridcolor": "white",
           "linecolor": "white",
           "ticks": "",
           "title": {
            "standoff": 15
           },
           "zerolinecolor": "white",
           "zerolinewidth": 2
          }
         }
        },
        "title": {
         "text": "Movies Per Year with Rotten Tomatoes Rating [2000-2020]"
        },
        "width": 1000,
        "xaxis": {
         "anchor": "y",
         "domain": [
          0,
          1
         ],
         "tickangle": -45,
         "title": {
          "text": "Release Year"
         }
        },
        "yaxis": {
         "anchor": "x",
         "domain": [
          0,
          1
         ],
         "title": {
          "text": "count"
         }
        }
       }
      }
     },
     "metadata": {},
     "output_type": "display_data"
    }
   ],
   "source": [
    "netflix_plus_rt_df = netflix_plus_rt_df.dropna(subset=\"tomatometer_status\") # Remove those without a tomatometer status\n",
    "netflix_plus_rt_df = netflix_plus_rt_df[netflix_plus_rt_df[\"release_year_x\"] >= 2000] # Remove Movies released before 2000\n",
    "\n",
    "netflix_plus_rt_df = netflix_plus_rt_df.sort_values(by=[\"tomatometer_status\", \"release_year_x\"], ascending=False)\n",
    "\n",
    "fig = px.histogram(\n",
    "  netflix_plus_rt_df,\n",
    "  \"release_year_x\",\n",
    "  title=\"Movies Per Year with Rotten Tomatoes Rating [2000-2020]\",\n",
    "  labels={\"release_year_x\": \"Release Year\"},\n",
    "  color=\"tomatometer_status\",\n",
    "  color_discrete_map={\n",
    "                \"Rotten\": \"hsl(6, 78%, 66%)\",\n",
    "                \"Fresh\": \"hsl(48, 89%, 60%)\",\n",
    "                \"Certified-Fresh\": \"hsl(145, 61%, 59%)\",\n",
    "                },\n",
    ")\n",
    "\n",
    "fig.update_layout(\n",
    "  barmode=\"group\",\n",
    "  xaxis_tickangle=-45,\n",
    "  width=1000,\n",
    "  )"
   ]
  },
  {
   "cell_type": "code",
   "execution_count": 8,
   "metadata": {},
   "outputs": [],
   "source": [
    "# netflix_plus_rt_df = netflix_plus_rt_df.dropna(subset=\"tomatometer_status\") # Remove those without a tomatometer status\n",
    "# netflix_plus_rt_df = netflix_plus_rt_df[netflix_plus_rt_df[\"release_year_x\"] >= 2000] # Remove Movies released before 2000\n",
    "# is_any_fresh_filt = (netflix_plus_rt_df[\"tomatometer_status\"] == \"Certified-Fresh\") | (netflix_plus_rt_df[\"tomatometer_status\"] == \"Fresh\")\n",
    "\n",
    "# netflix_plus_rt_df[\"Is Fresh\"] = netflix_plus_rt_df[is_any_fresh_filt]\n",
    "\n",
    "# netflix_plus_rt_df = netflix_plus_rt_df.sort_values(by=[\"tomatometer_status\", \"release_year_x\"], ascending=False)\n",
    "\n",
    "\n",
    "# fig = px.histogram(\n",
    "#   netflix_plus_rt_df,\n",
    "#   \"release_year_x\",\n",
    "#   title=\"Movies Per Year with Rotten Tomatoes Rating [2000-2020]\",\n",
    "#   labels={\"release_year_x\": \"Release Year\"},\n",
    "#   color=\"Is Fresh\",\n",
    "#   color_discrete_map={\n",
    "#                 False: \"hsl(6, 78%, 66%)\",\n",
    "#                 True: \"hsl(145, 61%, 59%)\",\n",
    "#                 },\n",
    "# )\n",
    "\n",
    "# fig.update_layout(\n",
    "#   barmode=\"group\",\n",
    "#   xaxis_tickangle=-45\n",
    "#   )\n"
   ]
  },
  {
   "cell_type": "code",
   "execution_count": 9,
   "metadata": {},
   "outputs": [
    {
     "data": {
      "application/vnd.plotly.v1+json": {
       "config": {
        "plotlyServerURL": "https://plot.ly"
       },
       "data": [
        {
         "alignmentgroup": "True",
         "bingroup": "x",
         "hovertemplate": "Release Year=%{x}<br>count=%{y}<extra></extra>",
         "legendgroup": "",
         "marker": {
          "color": "#636efa",
          "pattern": {
           "shape": ""
          }
         },
         "name": "",
         "offsetgroup": "",
         "orientation": "v",
         "showlegend": false,
         "type": "histogram",
         "x": [
          2020,
          2020,
          2020,
          2020,
          2020,
          2020,
          2020,
          2020,
          2020,
          2019,
          2019,
          2019,
          2019,
          2019,
          2019,
          2019,
          2019,
          2019,
          2019,
          2019,
          2019,
          2019,
          2019,
          2019,
          2019,
          2019,
          2019,
          2019,
          2019,
          2019,
          2019,
          2019,
          2019,
          2019,
          2019,
          2019,
          2019,
          2019,
          2019,
          2019,
          2019,
          2018,
          2018,
          2018,
          2018,
          2018,
          2018,
          2018,
          2018,
          2018,
          2018,
          2018,
          2018,
          2018,
          2018,
          2018,
          2018,
          2018,
          2018,
          2018,
          2018,
          2018,
          2018,
          2018,
          2018,
          2018,
          2018,
          2018,
          2018,
          2018,
          2018,
          2018,
          2018,
          2018,
          2018,
          2018,
          2018,
          2018,
          2018,
          2018,
          2018,
          2018,
          2018,
          2018,
          2018,
          2018,
          2018,
          2018,
          2018,
          2018,
          2018,
          2018,
          2018,
          2017,
          2017,
          2017,
          2017,
          2017,
          2017,
          2017,
          2017,
          2017,
          2017,
          2017,
          2017,
          2017,
          2017,
          2017,
          2017,
          2017,
          2017,
          2017,
          2017,
          2017,
          2017,
          2017,
          2017,
          2017,
          2017,
          2017,
          2017,
          2017,
          2017,
          2017,
          2017,
          2017,
          2017,
          2017,
          2017,
          2017,
          2017,
          2016,
          2016,
          2016,
          2016,
          2016,
          2016,
          2016,
          2016,
          2016,
          2016,
          2016,
          2016,
          2016,
          2016,
          2016,
          2016,
          2016,
          2016,
          2016,
          2016,
          2016,
          2016,
          2016,
          2016,
          2016,
          2016,
          2016,
          2016,
          2016,
          2016,
          2016,
          2016,
          2016,
          2016,
          2016,
          2015,
          2015,
          2015,
          2015,
          2015,
          2015,
          2015,
          2015,
          2015,
          2015,
          2015,
          2015,
          2015,
          2015,
          2015,
          2015,
          2015,
          2015,
          2015,
          2015,
          2015,
          2015,
          2015,
          2015,
          2014,
          2014,
          2014,
          2014,
          2014,
          2014,
          2014,
          2014,
          2014,
          2014,
          2014,
          2014,
          2014,
          2014,
          2014,
          2014,
          2014,
          2014,
          2014,
          2014,
          2014,
          2014,
          2014,
          2014,
          2014,
          2014,
          2013,
          2013,
          2013,
          2013,
          2013,
          2013,
          2013,
          2013,
          2013,
          2013,
          2013,
          2013,
          2013,
          2013,
          2013,
          2013,
          2013,
          2013,
          2013,
          2013,
          2013,
          2013,
          2013,
          2013,
          2013,
          2012,
          2012,
          2012,
          2012,
          2012,
          2012,
          2012,
          2012,
          2012,
          2012,
          2012,
          2012,
          2012,
          2012,
          2012,
          2012,
          2012,
          2012,
          2011,
          2011,
          2011,
          2011,
          2011,
          2011,
          2011,
          2011,
          2011,
          2011,
          2011,
          2011,
          2011,
          2011,
          2011,
          2011,
          2011,
          2011,
          2011,
          2011,
          2011,
          2011,
          2010,
          2010,
          2010,
          2010,
          2010,
          2010,
          2010,
          2010,
          2010,
          2010,
          2010,
          2010,
          2010,
          2010,
          2010,
          2010,
          2010,
          2010,
          2010,
          2010,
          2010,
          2010,
          2010,
          2010,
          2010,
          2010,
          2010,
          2010,
          2010,
          2010,
          2010,
          2010,
          2010,
          2010,
          2010,
          2010,
          2010,
          2010,
          2009,
          2009,
          2009,
          2009,
          2009,
          2009,
          2009,
          2009,
          2009,
          2009,
          2009,
          2009,
          2009,
          2009,
          2009,
          2009,
          2009,
          2009,
          2009,
          2009,
          2009,
          2009,
          2009,
          2009,
          2009,
          2009,
          2009,
          2008,
          2008,
          2008,
          2008,
          2008,
          2008,
          2008,
          2008,
          2008,
          2008,
          2008,
          2008,
          2008,
          2008,
          2008,
          2008,
          2008,
          2008,
          2008,
          2008,
          2008,
          2008,
          2008,
          2008,
          2008,
          2008,
          2008,
          2007,
          2007,
          2007,
          2007,
          2007,
          2007,
          2007,
          2007,
          2007,
          2007,
          2007,
          2007,
          2007,
          2007,
          2007,
          2007,
          2007,
          2007,
          2007,
          2007,
          2006,
          2006,
          2006,
          2006,
          2006,
          2006,
          2006,
          2006,
          2006,
          2006,
          2006,
          2006,
          2006,
          2006,
          2006,
          2006,
          2006,
          2006,
          2006,
          2006,
          2005,
          2005,
          2005,
          2005,
          2005,
          2005,
          2005,
          2005,
          2005,
          2005,
          2005,
          2005,
          2005,
          2005,
          2005,
          2004,
          2004,
          2004,
          2004,
          2004,
          2004,
          2004,
          2004,
          2004,
          2004,
          2003,
          2003,
          2003,
          2003,
          2003,
          2003,
          2003,
          2003,
          2003,
          2003,
          2003,
          2003,
          2003,
          2003,
          2003,
          2003,
          2003,
          2003,
          2003,
          2002,
          2002,
          2002,
          2002,
          2002,
          2002,
          2002,
          2002,
          2002,
          2002,
          2002,
          2002,
          2001,
          2001,
          2001,
          2001,
          2001,
          2001,
          2001,
          2001,
          2001,
          2001,
          2001,
          2001,
          2001,
          2001,
          2001,
          2000,
          2000,
          2000,
          2000,
          2000,
          2000,
          2000,
          2000,
          2000,
          2000,
          2000,
          2000,
          2000,
          2020,
          2020,
          2020,
          2020,
          2020,
          2020,
          2019,
          2019,
          2019,
          2019,
          2019,
          2019,
          2019,
          2019,
          2019,
          2019,
          2019,
          2019,
          2019,
          2019,
          2019,
          2019,
          2019,
          2019,
          2019,
          2019,
          2019,
          2018,
          2018,
          2018,
          2018,
          2018,
          2018,
          2018,
          2018,
          2018,
          2018,
          2018,
          2018,
          2018,
          2018,
          2018,
          2018,
          2018,
          2018,
          2018,
          2018,
          2018,
          2018,
          2018,
          2018,
          2018,
          2018,
          2018,
          2018,
          2018,
          2018,
          2018,
          2018,
          2018,
          2018,
          2018,
          2018,
          2018,
          2018,
          2018,
          2018,
          2018,
          2018,
          2018,
          2018,
          2018,
          2018,
          2018,
          2018,
          2018,
          2018,
          2018,
          2018,
          2017,
          2017,
          2017,
          2017,
          2017,
          2017,
          2017,
          2017,
          2017,
          2017,
          2017,
          2017,
          2017,
          2017,
          2017,
          2017,
          2017,
          2017,
          2017,
          2017,
          2017,
          2017,
          2017,
          2017,
          2017,
          2017,
          2017,
          2017,
          2017,
          2017,
          2017,
          2017,
          2017,
          2017,
          2017,
          2017,
          2017,
          2017,
          2017,
          2017,
          2017,
          2016,
          2016,
          2016,
          2016,
          2016,
          2016,
          2016,
          2016,
          2016,
          2016,
          2016,
          2016,
          2016,
          2016,
          2016,
          2016,
          2016,
          2016,
          2016,
          2016,
          2016,
          2016,
          2016,
          2016,
          2016,
          2016,
          2016,
          2015,
          2015,
          2015,
          2015,
          2015,
          2015,
          2015,
          2015,
          2015,
          2015,
          2015,
          2015,
          2014,
          2014,
          2014,
          2014,
          2014,
          2014,
          2014,
          2013,
          2013,
          2013,
          2013,
          2013,
          2013,
          2013,
          2013,
          2013,
          2013,
          2013,
          2013,
          2013,
          2012,
          2012,
          2012,
          2012,
          2012,
          2012,
          2011,
          2011,
          2011,
          2011,
          2011,
          2011,
          2011,
          2011,
          2010,
          2010,
          2010,
          2010,
          2010,
          2010,
          2010,
          2009,
          2009,
          2009,
          2009,
          2009,
          2009,
          2009,
          2008,
          2008,
          2008,
          2008,
          2008,
          2008,
          2008,
          2008,
          2008,
          2008,
          2008,
          2007,
          2007,
          2007,
          2007,
          2007,
          2007,
          2007,
          2007,
          2006,
          2006,
          2006,
          2006,
          2005,
          2005,
          2005,
          2004,
          2004,
          2004,
          2004,
          2003,
          2003,
          2003,
          2003,
          2002,
          2002,
          2002,
          2001,
          2001,
          2001,
          2001,
          2000,
          2000,
          2020,
          2020,
          2020,
          2020,
          2019,
          2019,
          2019,
          2019,
          2019,
          2019,
          2019,
          2019,
          2019,
          2019,
          2019,
          2019,
          2019,
          2019,
          2019,
          2019,
          2019,
          2019,
          2019,
          2019,
          2019,
          2018,
          2018,
          2018,
          2018,
          2018,
          2018,
          2018,
          2018,
          2018,
          2018,
          2018,
          2018,
          2018,
          2018,
          2018,
          2018,
          2018,
          2018,
          2018,
          2018,
          2018,
          2018,
          2018,
          2018,
          2018,
          2018,
          2018,
          2018,
          2018,
          2018,
          2018,
          2017,
          2017,
          2017,
          2017,
          2017,
          2017,
          2017,
          2017,
          2017,
          2017,
          2017,
          2017,
          2017,
          2017,
          2017,
          2017,
          2017,
          2017,
          2017,
          2017,
          2017,
          2017,
          2017,
          2017,
          2017,
          2017,
          2017,
          2017,
          2017,
          2017,
          2017,
          2017,
          2017,
          2017,
          2016,
          2016,
          2016,
          2016,
          2016,
          2016,
          2016,
          2016,
          2016,
          2016,
          2016,
          2016,
          2016,
          2016,
          2016,
          2016,
          2016,
          2016,
          2016,
          2016,
          2016,
          2016,
          2016,
          2016,
          2016,
          2016,
          2016,
          2016,
          2016,
          2015,
          2015,
          2015,
          2015,
          2015,
          2015,
          2015,
          2015,
          2015,
          2015,
          2015,
          2015,
          2015,
          2015,
          2015,
          2015,
          2015,
          2015,
          2015,
          2014,
          2014,
          2014,
          2014,
          2014,
          2014,
          2014,
          2014,
          2014,
          2014,
          2014,
          2013,
          2013,
          2013,
          2013,
          2013,
          2013,
          2013,
          2013,
          2013,
          2013,
          2013,
          2013,
          2013,
          2013,
          2013,
          2013,
          2013,
          2013,
          2013,
          2012,
          2012,
          2012,
          2012,
          2012,
          2012,
          2012,
          2012,
          2012,
          2012,
          2012,
          2012,
          2012,
          2012,
          2012,
          2012,
          2012,
          2012,
          2011,
          2011,
          2011,
          2011,
          2011,
          2011,
          2011,
          2011,
          2011,
          2011,
          2011,
          2011,
          2011,
          2011,
          2011,
          2011,
          2011,
          2011,
          2010,
          2010,
          2010,
          2010,
          2010,
          2010,
          2010,
          2010,
          2010,
          2010,
          2009,
          2009,
          2009,
          2009,
          2009,
          2009,
          2009,
          2009,
          2009,
          2009,
          2009,
          2009,
          2009,
          2009,
          2009,
          2009,
          2009,
          2008,
          2008,
          2008,
          2008,
          2008,
          2008,
          2008,
          2008,
          2008,
          2008,
          2008,
          2007,
          2007,
          2007,
          2007,
          2007,
          2007,
          2007,
          2007,
          2007,
          2007,
          2006,
          2006,
          2006,
          2006,
          2006,
          2006,
          2006,
          2006,
          2006,
          2005,
          2005,
          2005,
          2005,
          2005,
          2005,
          2004,
          2004,
          2004,
          2004,
          2004,
          2004,
          2003,
          2003,
          2003,
          2003,
          2003,
          2002,
          2002,
          2002,
          2002,
          2002,
          2002,
          2002,
          2002,
          2001,
          2001,
          2001,
          2001,
          2001,
          2000,
          2000,
          2000
         ],
         "xaxis": "x",
         "yaxis": "y"
        }
       ],
       "layout": {
        "barmode": "group",
        "legend": {
         "tracegroupgap": 0
        },
        "template": {
         "data": {
          "bar": [
           {
            "error_x": {
             "color": "#2a3f5f"
            },
            "error_y": {
             "color": "#2a3f5f"
            },
            "marker": {
             "line": {
              "color": "#E5ECF6",
              "width": 0.5
             },
             "pattern": {
              "fillmode": "overlay",
              "size": 10,
              "solidity": 0.2
             }
            },
            "type": "bar"
           }
          ],
          "barpolar": [
           {
            "marker": {
             "line": {
              "color": "#E5ECF6",
              "width": 0.5
             },
             "pattern": {
              "fillmode": "overlay",
              "size": 10,
              "solidity": 0.2
             }
            },
            "type": "barpolar"
           }
          ],
          "carpet": [
           {
            "aaxis": {
             "endlinecolor": "#2a3f5f",
             "gridcolor": "white",
             "linecolor": "white",
             "minorgridcolor": "white",
             "startlinecolor": "#2a3f5f"
            },
            "baxis": {
             "endlinecolor": "#2a3f5f",
             "gridcolor": "white",
             "linecolor": "white",
             "minorgridcolor": "white",
             "startlinecolor": "#2a3f5f"
            },
            "type": "carpet"
           }
          ],
          "choropleth": [
           {
            "colorbar": {
             "outlinewidth": 0,
             "ticks": ""
            },
            "type": "choropleth"
           }
          ],
          "contour": [
           {
            "colorbar": {
             "outlinewidth": 0,
             "ticks": ""
            },
            "colorscale": [
             [
              0,
              "#0d0887"
             ],
             [
              0.1111111111111111,
              "#46039f"
             ],
             [
              0.2222222222222222,
              "#7201a8"
             ],
             [
              0.3333333333333333,
              "#9c179e"
             ],
             [
              0.4444444444444444,
              "#bd3786"
             ],
             [
              0.5555555555555556,
              "#d8576b"
             ],
             [
              0.6666666666666666,
              "#ed7953"
             ],
             [
              0.7777777777777778,
              "#fb9f3a"
             ],
             [
              0.8888888888888888,
              "#fdca26"
             ],
             [
              1,
              "#f0f921"
             ]
            ],
            "type": "contour"
           }
          ],
          "contourcarpet": [
           {
            "colorbar": {
             "outlinewidth": 0,
             "ticks": ""
            },
            "type": "contourcarpet"
           }
          ],
          "heatmap": [
           {
            "colorbar": {
             "outlinewidth": 0,
             "ticks": ""
            },
            "colorscale": [
             [
              0,
              "#0d0887"
             ],
             [
              0.1111111111111111,
              "#46039f"
             ],
             [
              0.2222222222222222,
              "#7201a8"
             ],
             [
              0.3333333333333333,
              "#9c179e"
             ],
             [
              0.4444444444444444,
              "#bd3786"
             ],
             [
              0.5555555555555556,
              "#d8576b"
             ],
             [
              0.6666666666666666,
              "#ed7953"
             ],
             [
              0.7777777777777778,
              "#fb9f3a"
             ],
             [
              0.8888888888888888,
              "#fdca26"
             ],
             [
              1,
              "#f0f921"
             ]
            ],
            "type": "heatmap"
           }
          ],
          "heatmapgl": [
           {
            "colorbar": {
             "outlinewidth": 0,
             "ticks": ""
            },
            "colorscale": [
             [
              0,
              "#0d0887"
             ],
             [
              0.1111111111111111,
              "#46039f"
             ],
             [
              0.2222222222222222,
              "#7201a8"
             ],
             [
              0.3333333333333333,
              "#9c179e"
             ],
             [
              0.4444444444444444,
              "#bd3786"
             ],
             [
              0.5555555555555556,
              "#d8576b"
             ],
             [
              0.6666666666666666,
              "#ed7953"
             ],
             [
              0.7777777777777778,
              "#fb9f3a"
             ],
             [
              0.8888888888888888,
              "#fdca26"
             ],
             [
              1,
              "#f0f921"
             ]
            ],
            "type": "heatmapgl"
           }
          ],
          "histogram": [
           {
            "marker": {
             "pattern": {
              "fillmode": "overlay",
              "size": 10,
              "solidity": 0.2
             }
            },
            "type": "histogram"
           }
          ],
          "histogram2d": [
           {
            "colorbar": {
             "outlinewidth": 0,
             "ticks": ""
            },
            "colorscale": [
             [
              0,
              "#0d0887"
             ],
             [
              0.1111111111111111,
              "#46039f"
             ],
             [
              0.2222222222222222,
              "#7201a8"
             ],
             [
              0.3333333333333333,
              "#9c179e"
             ],
             [
              0.4444444444444444,
              "#bd3786"
             ],
             [
              0.5555555555555556,
              "#d8576b"
             ],
             [
              0.6666666666666666,
              "#ed7953"
             ],
             [
              0.7777777777777778,
              "#fb9f3a"
             ],
             [
              0.8888888888888888,
              "#fdca26"
             ],
             [
              1,
              "#f0f921"
             ]
            ],
            "type": "histogram2d"
           }
          ],
          "histogram2dcontour": [
           {
            "colorbar": {
             "outlinewidth": 0,
             "ticks": ""
            },
            "colorscale": [
             [
              0,
              "#0d0887"
             ],
             [
              0.1111111111111111,
              "#46039f"
             ],
             [
              0.2222222222222222,
              "#7201a8"
             ],
             [
              0.3333333333333333,
              "#9c179e"
             ],
             [
              0.4444444444444444,
              "#bd3786"
             ],
             [
              0.5555555555555556,
              "#d8576b"
             ],
             [
              0.6666666666666666,
              "#ed7953"
             ],
             [
              0.7777777777777778,
              "#fb9f3a"
             ],
             [
              0.8888888888888888,
              "#fdca26"
             ],
             [
              1,
              "#f0f921"
             ]
            ],
            "type": "histogram2dcontour"
           }
          ],
          "mesh3d": [
           {
            "colorbar": {
             "outlinewidth": 0,
             "ticks": ""
            },
            "type": "mesh3d"
           }
          ],
          "parcoords": [
           {
            "line": {
             "colorbar": {
              "outlinewidth": 0,
              "ticks": ""
             }
            },
            "type": "parcoords"
           }
          ],
          "pie": [
           {
            "automargin": true,
            "type": "pie"
           }
          ],
          "scatter": [
           {
            "fillpattern": {
             "fillmode": "overlay",
             "size": 10,
             "solidity": 0.2
            },
            "type": "scatter"
           }
          ],
          "scatter3d": [
           {
            "line": {
             "colorbar": {
              "outlinewidth": 0,
              "ticks": ""
             }
            },
            "marker": {
             "colorbar": {
              "outlinewidth": 0,
              "ticks": ""
             }
            },
            "type": "scatter3d"
           }
          ],
          "scattercarpet": [
           {
            "marker": {
             "colorbar": {
              "outlinewidth": 0,
              "ticks": ""
             }
            },
            "type": "scattercarpet"
           }
          ],
          "scattergeo": [
           {
            "marker": {
             "colorbar": {
              "outlinewidth": 0,
              "ticks": ""
             }
            },
            "type": "scattergeo"
           }
          ],
          "scattergl": [
           {
            "marker": {
             "colorbar": {
              "outlinewidth": 0,
              "ticks": ""
             }
            },
            "type": "scattergl"
           }
          ],
          "scattermapbox": [
           {
            "marker": {
             "colorbar": {
              "outlinewidth": 0,
              "ticks": ""
             }
            },
            "type": "scattermapbox"
           }
          ],
          "scatterpolar": [
           {
            "marker": {
             "colorbar": {
              "outlinewidth": 0,
              "ticks": ""
             }
            },
            "type": "scatterpolar"
           }
          ],
          "scatterpolargl": [
           {
            "marker": {
             "colorbar": {
              "outlinewidth": 0,
              "ticks": ""
             }
            },
            "type": "scatterpolargl"
           }
          ],
          "scatterternary": [
           {
            "marker": {
             "colorbar": {
              "outlinewidth": 0,
              "ticks": ""
             }
            },
            "type": "scatterternary"
           }
          ],
          "surface": [
           {
            "colorbar": {
             "outlinewidth": 0,
             "ticks": ""
            },
            "colorscale": [
             [
              0,
              "#0d0887"
             ],
             [
              0.1111111111111111,
              "#46039f"
             ],
             [
              0.2222222222222222,
              "#7201a8"
             ],
             [
              0.3333333333333333,
              "#9c179e"
             ],
             [
              0.4444444444444444,
              "#bd3786"
             ],
             [
              0.5555555555555556,
              "#d8576b"
             ],
             [
              0.6666666666666666,
              "#ed7953"
             ],
             [
              0.7777777777777778,
              "#fb9f3a"
             ],
             [
              0.8888888888888888,
              "#fdca26"
             ],
             [
              1,
              "#f0f921"
             ]
            ],
            "type": "surface"
           }
          ],
          "table": [
           {
            "cells": {
             "fill": {
              "color": "#EBF0F8"
             },
             "line": {
              "color": "white"
             }
            },
            "header": {
             "fill": {
              "color": "#C8D4E3"
             },
             "line": {
              "color": "white"
             }
            },
            "type": "table"
           }
          ]
         },
         "layout": {
          "annotationdefaults": {
           "arrowcolor": "#2a3f5f",
           "arrowhead": 0,
           "arrowwidth": 1
          },
          "autotypenumbers": "strict",
          "coloraxis": {
           "colorbar": {
            "outlinewidth": 0,
            "ticks": ""
           }
          },
          "colorscale": {
           "diverging": [
            [
             0,
             "#8e0152"
            ],
            [
             0.1,
             "#c51b7d"
            ],
            [
             0.2,
             "#de77ae"
            ],
            [
             0.3,
             "#f1b6da"
            ],
            [
             0.4,
             "#fde0ef"
            ],
            [
             0.5,
             "#f7f7f7"
            ],
            [
             0.6,
             "#e6f5d0"
            ],
            [
             0.7,
             "#b8e186"
            ],
            [
             0.8,
             "#7fbc41"
            ],
            [
             0.9,
             "#4d9221"
            ],
            [
             1,
             "#276419"
            ]
           ],
           "sequential": [
            [
             0,
             "#0d0887"
            ],
            [
             0.1111111111111111,
             "#46039f"
            ],
            [
             0.2222222222222222,
             "#7201a8"
            ],
            [
             0.3333333333333333,
             "#9c179e"
            ],
            [
             0.4444444444444444,
             "#bd3786"
            ],
            [
             0.5555555555555556,
             "#d8576b"
            ],
            [
             0.6666666666666666,
             "#ed7953"
            ],
            [
             0.7777777777777778,
             "#fb9f3a"
            ],
            [
             0.8888888888888888,
             "#fdca26"
            ],
            [
             1,
             "#f0f921"
            ]
           ],
           "sequentialminus": [
            [
             0,
             "#0d0887"
            ],
            [
             0.1111111111111111,
             "#46039f"
            ],
            [
             0.2222222222222222,
             "#7201a8"
            ],
            [
             0.3333333333333333,
             "#9c179e"
            ],
            [
             0.4444444444444444,
             "#bd3786"
            ],
            [
             0.5555555555555556,
             "#d8576b"
            ],
            [
             0.6666666666666666,
             "#ed7953"
            ],
            [
             0.7777777777777778,
             "#fb9f3a"
            ],
            [
             0.8888888888888888,
             "#fdca26"
            ],
            [
             1,
             "#f0f921"
            ]
           ]
          },
          "colorway": [
           "#636efa",
           "#EF553B",
           "#00cc96",
           "#ab63fa",
           "#FFA15A",
           "#19d3f3",
           "#FF6692",
           "#B6E880",
           "#FF97FF",
           "#FECB52"
          ],
          "font": {
           "color": "#2a3f5f"
          },
          "geo": {
           "bgcolor": "white",
           "lakecolor": "white",
           "landcolor": "#E5ECF6",
           "showlakes": true,
           "showland": true,
           "subunitcolor": "white"
          },
          "hoverlabel": {
           "align": "left"
          },
          "hovermode": "closest",
          "mapbox": {
           "style": "light"
          },
          "paper_bgcolor": "white",
          "plot_bgcolor": "#E5ECF6",
          "polar": {
           "angularaxis": {
            "gridcolor": "white",
            "linecolor": "white",
            "ticks": ""
           },
           "bgcolor": "#E5ECF6",
           "radialaxis": {
            "gridcolor": "white",
            "linecolor": "white",
            "ticks": ""
           }
          },
          "scene": {
           "xaxis": {
            "backgroundcolor": "#E5ECF6",
            "gridcolor": "white",
            "gridwidth": 2,
            "linecolor": "white",
            "showbackground": true,
            "ticks": "",
            "zerolinecolor": "white"
           },
           "yaxis": {
            "backgroundcolor": "#E5ECF6",
            "gridcolor": "white",
            "gridwidth": 2,
            "linecolor": "white",
            "showbackground": true,
            "ticks": "",
            "zerolinecolor": "white"
           },
           "zaxis": {
            "backgroundcolor": "#E5ECF6",
            "gridcolor": "white",
            "gridwidth": 2,
            "linecolor": "white",
            "showbackground": true,
            "ticks": "",
            "zerolinecolor": "white"
           }
          },
          "shapedefaults": {
           "line": {
            "color": "#2a3f5f"
           }
          },
          "ternary": {
           "aaxis": {
            "gridcolor": "white",
            "linecolor": "white",
            "ticks": ""
           },
           "baxis": {
            "gridcolor": "white",
            "linecolor": "white",
            "ticks": ""
           },
           "bgcolor": "#E5ECF6",
           "caxis": {
            "gridcolor": "white",
            "linecolor": "white",
            "ticks": ""
           }
          },
          "title": {
           "x": 0.05
          },
          "xaxis": {
           "automargin": true,
           "gridcolor": "white",
           "linecolor": "white",
           "ticks": "",
           "title": {
            "standoff": 15
           },
           "zerolinecolor": "white",
           "zerolinewidth": 2
          },
          "yaxis": {
           "automargin": true,
           "gridcolor": "white",
           "linecolor": "white",
           "ticks": "",
           "title": {
            "standoff": 15
           },
           "zerolinecolor": "white",
           "zerolinewidth": 2
          }
         }
        },
        "title": {
         "text": "Movies Per Year rated Rotten"
        },
        "width": 1000,
        "xaxis": {
         "anchor": "y",
         "domain": [
          0,
          1
         ],
         "title": {
          "text": "Release Year"
         }
        },
        "yaxis": {
         "anchor": "x",
         "domain": [
          0,
          1
         ],
         "title": {
          "text": "count"
         }
        }
       }
      }
     },
     "metadata": {},
     "output_type": "display_data"
    }
   ],
   "source": [
    "netflix_plus_rt_df = netflix_plus_rt_df.dropna(subset=\"tomatometer_status\")\n",
    "# px.histogram(netflix_plus_rt_df, \"release_year_x\", color=\"tomatometer_status\", labels={\"release_year_x\": \"Release Year\"}, color_discrete_sequence=['red', 'blue', 'green'], title=\"Movies Per Year with Rotten Tomatoes Rating\")\n",
    "netflix_plus_rt_df = netflix_plus_rt_df.sort_values(by=[\"tomatometer_status\", \"release_year_x\"], ascending=False)\n",
    "\n",
    "certified_fresh_netflix_plus_rt_df = netflix_plus_rt_df[netflix_plus_rt_df[\"tomatometer_status\"] == \"Certified-Fresh\"]\n",
    "fresh_netflix_plus_rt_df = netflix_plus_rt_df[netflix_plus_rt_df[\"tomatometer_status\"] == \"Fresh\"]\n",
    "rotten_netflix_plus_rt_df = netflix_plus_rt_df[netflix_plus_rt_df[\"tomatometer_status\"] == \"Rotten\"]\n",
    "\n",
    "px.histogram(\n",
    "  netflix_plus_rt_df,\n",
    "  \"release_year_x\",\n",
    "  barmode=\"group\",\n",
    "  title=\"Movies Per Year rated Rotten\",\n",
    "  width=1000,\n",
    "  labels={\"release_year_x\": \"Release Year\"},\n",
    ")"
   ]
  },
  {
   "cell_type": "code",
   "execution_count": 10,
   "metadata": {},
   "outputs": [
    {
     "data": {
      "application/vnd.plotly.v1+json": {
       "config": {
        "plotlyServerURL": "https://plot.ly"
       },
       "data": [
        {
         "alignmentgroup": "True",
         "hovertemplate": "Release Year=%{x}<br>Count=%{y}<br>tomatometer_status=%{marker.color}<extra></extra>",
         "legendgroup": "",
         "marker": {
          "color": [
           18,
           24,
           23,
           28,
           20,
           24,
           33,
           38,
           49,
           51,
           55,
           48,
           42,
           57,
           44,
           55,
           91,
           113,
           135,
           74,
           19
          ],
          "coloraxis": "coloraxis",
          "pattern": {
           "shape": ""
          }
         },
         "name": "",
         "offsetgroup": "",
         "orientation": "v",
         "showlegend": false,
         "textposition": "auto",
         "type": "bar",
         "x": [
          2000,
          2001,
          2002,
          2003,
          2004,
          2005,
          2006,
          2007,
          2008,
          2009,
          2010,
          2011,
          2012,
          2013,
          2014,
          2015,
          2016,
          2017,
          2018,
          2019,
          2020
         ],
         "xaxis": "x",
         "y": [
          18,
          24,
          23,
          28,
          20,
          24,
          33,
          38,
          49,
          51,
          55,
          48,
          42,
          57,
          44,
          55,
          91,
          113,
          135,
          74,
          19
         ],
         "yaxis": "y"
        }
       ],
       "layout": {
        "barmode": "stack",
        "coloraxis": {
         "colorbar": {
          "title": {
           "text": "tomatometer_status"
          }
         },
         "colorscale": [
          [
           0,
           "#0d0887"
          ],
          [
           0.1111111111111111,
           "#46039f"
          ],
          [
           0.2222222222222222,
           "#7201a8"
          ],
          [
           0.3333333333333333,
           "#9c179e"
          ],
          [
           0.4444444444444444,
           "#bd3786"
          ],
          [
           0.5555555555555556,
           "#d8576b"
          ],
          [
           0.6666666666666666,
           "#ed7953"
          ],
          [
           0.7777777777777778,
           "#fb9f3a"
          ],
          [
           0.8888888888888888,
           "#fdca26"
          ],
          [
           1,
           "#f0f921"
          ]
         ]
        },
        "legend": {
         "tracegroupgap": 0
        },
        "template": {
         "data": {
          "bar": [
           {
            "error_x": {
             "color": "#2a3f5f"
            },
            "error_y": {
             "color": "#2a3f5f"
            },
            "marker": {
             "line": {
              "color": "#E5ECF6",
              "width": 0.5
             },
             "pattern": {
              "fillmode": "overlay",
              "size": 10,
              "solidity": 0.2
             }
            },
            "type": "bar"
           }
          ],
          "barpolar": [
           {
            "marker": {
             "line": {
              "color": "#E5ECF6",
              "width": 0.5
             },
             "pattern": {
              "fillmode": "overlay",
              "size": 10,
              "solidity": 0.2
             }
            },
            "type": "barpolar"
           }
          ],
          "carpet": [
           {
            "aaxis": {
             "endlinecolor": "#2a3f5f",
             "gridcolor": "white",
             "linecolor": "white",
             "minorgridcolor": "white",
             "startlinecolor": "#2a3f5f"
            },
            "baxis": {
             "endlinecolor": "#2a3f5f",
             "gridcolor": "white",
             "linecolor": "white",
             "minorgridcolor": "white",
             "startlinecolor": "#2a3f5f"
            },
            "type": "carpet"
           }
          ],
          "choropleth": [
           {
            "colorbar": {
             "outlinewidth": 0,
             "ticks": ""
            },
            "type": "choropleth"
           }
          ],
          "contour": [
           {
            "colorbar": {
             "outlinewidth": 0,
             "ticks": ""
            },
            "colorscale": [
             [
              0,
              "#0d0887"
             ],
             [
              0.1111111111111111,
              "#46039f"
             ],
             [
              0.2222222222222222,
              "#7201a8"
             ],
             [
              0.3333333333333333,
              "#9c179e"
             ],
             [
              0.4444444444444444,
              "#bd3786"
             ],
             [
              0.5555555555555556,
              "#d8576b"
             ],
             [
              0.6666666666666666,
              "#ed7953"
             ],
             [
              0.7777777777777778,
              "#fb9f3a"
             ],
             [
              0.8888888888888888,
              "#fdca26"
             ],
             [
              1,
              "#f0f921"
             ]
            ],
            "type": "contour"
           }
          ],
          "contourcarpet": [
           {
            "colorbar": {
             "outlinewidth": 0,
             "ticks": ""
            },
            "type": "contourcarpet"
           }
          ],
          "heatmap": [
           {
            "colorbar": {
             "outlinewidth": 0,
             "ticks": ""
            },
            "colorscale": [
             [
              0,
              "#0d0887"
             ],
             [
              0.1111111111111111,
              "#46039f"
             ],
             [
              0.2222222222222222,
              "#7201a8"
             ],
             [
              0.3333333333333333,
              "#9c179e"
             ],
             [
              0.4444444444444444,
              "#bd3786"
             ],
             [
              0.5555555555555556,
              "#d8576b"
             ],
             [
              0.6666666666666666,
              "#ed7953"
             ],
             [
              0.7777777777777778,
              "#fb9f3a"
             ],
             [
              0.8888888888888888,
              "#fdca26"
             ],
             [
              1,
              "#f0f921"
             ]
            ],
            "type": "heatmap"
           }
          ],
          "heatmapgl": [
           {
            "colorbar": {
             "outlinewidth": 0,
             "ticks": ""
            },
            "colorscale": [
             [
              0,
              "#0d0887"
             ],
             [
              0.1111111111111111,
              "#46039f"
             ],
             [
              0.2222222222222222,
              "#7201a8"
             ],
             [
              0.3333333333333333,
              "#9c179e"
             ],
             [
              0.4444444444444444,
              "#bd3786"
             ],
             [
              0.5555555555555556,
              "#d8576b"
             ],
             [
              0.6666666666666666,
              "#ed7953"
             ],
             [
              0.7777777777777778,
              "#fb9f3a"
             ],
             [
              0.8888888888888888,
              "#fdca26"
             ],
             [
              1,
              "#f0f921"
             ]
            ],
            "type": "heatmapgl"
           }
          ],
          "histogram": [
           {
            "marker": {
             "pattern": {
              "fillmode": "overlay",
              "size": 10,
              "solidity": 0.2
             }
            },
            "type": "histogram"
           }
          ],
          "histogram2d": [
           {
            "colorbar": {
             "outlinewidth": 0,
             "ticks": ""
            },
            "colorscale": [
             [
              0,
              "#0d0887"
             ],
             [
              0.1111111111111111,
              "#46039f"
             ],
             [
              0.2222222222222222,
              "#7201a8"
             ],
             [
              0.3333333333333333,
              "#9c179e"
             ],
             [
              0.4444444444444444,
              "#bd3786"
             ],
             [
              0.5555555555555556,
              "#d8576b"
             ],
             [
              0.6666666666666666,
              "#ed7953"
             ],
             [
              0.7777777777777778,
              "#fb9f3a"
             ],
             [
              0.8888888888888888,
              "#fdca26"
             ],
             [
              1,
              "#f0f921"
             ]
            ],
            "type": "histogram2d"
           }
          ],
          "histogram2dcontour": [
           {
            "colorbar": {
             "outlinewidth": 0,
             "ticks": ""
            },
            "colorscale": [
             [
              0,
              "#0d0887"
             ],
             [
              0.1111111111111111,
              "#46039f"
             ],
             [
              0.2222222222222222,
              "#7201a8"
             ],
             [
              0.3333333333333333,
              "#9c179e"
             ],
             [
              0.4444444444444444,
              "#bd3786"
             ],
             [
              0.5555555555555556,
              "#d8576b"
             ],
             [
              0.6666666666666666,
              "#ed7953"
             ],
             [
              0.7777777777777778,
              "#fb9f3a"
             ],
             [
              0.8888888888888888,
              "#fdca26"
             ],
             [
              1,
              "#f0f921"
             ]
            ],
            "type": "histogram2dcontour"
           }
          ],
          "mesh3d": [
           {
            "colorbar": {
             "outlinewidth": 0,
             "ticks": ""
            },
            "type": "mesh3d"
           }
          ],
          "parcoords": [
           {
            "line": {
             "colorbar": {
              "outlinewidth": 0,
              "ticks": ""
             }
            },
            "type": "parcoords"
           }
          ],
          "pie": [
           {
            "automargin": true,
            "type": "pie"
           }
          ],
          "scatter": [
           {
            "fillpattern": {
             "fillmode": "overlay",
             "size": 10,
             "solidity": 0.2
            },
            "type": "scatter"
           }
          ],
          "scatter3d": [
           {
            "line": {
             "colorbar": {
              "outlinewidth": 0,
              "ticks": ""
             }
            },
            "marker": {
             "colorbar": {
              "outlinewidth": 0,
              "ticks": ""
             }
            },
            "type": "scatter3d"
           }
          ],
          "scattercarpet": [
           {
            "marker": {
             "colorbar": {
              "outlinewidth": 0,
              "ticks": ""
             }
            },
            "type": "scattercarpet"
           }
          ],
          "scattergeo": [
           {
            "marker": {
             "colorbar": {
              "outlinewidth": 0,
              "ticks": ""
             }
            },
            "type": "scattergeo"
           }
          ],
          "scattergl": [
           {
            "marker": {
             "colorbar": {
              "outlinewidth": 0,
              "ticks": ""
             }
            },
            "type": "scattergl"
           }
          ],
          "scattermapbox": [
           {
            "marker": {
             "colorbar": {
              "outlinewidth": 0,
              "ticks": ""
             }
            },
            "type": "scattermapbox"
           }
          ],
          "scatterpolar": [
           {
            "marker": {
             "colorbar": {
              "outlinewidth": 0,
              "ticks": ""
             }
            },
            "type": "scatterpolar"
           }
          ],
          "scatterpolargl": [
           {
            "marker": {
             "colorbar": {
              "outlinewidth": 0,
              "ticks": ""
             }
            },
            "type": "scatterpolargl"
           }
          ],
          "scatterternary": [
           {
            "marker": {
             "colorbar": {
              "outlinewidth": 0,
              "ticks": ""
             }
            },
            "type": "scatterternary"
           }
          ],
          "surface": [
           {
            "colorbar": {
             "outlinewidth": 0,
             "ticks": ""
            },
            "colorscale": [
             [
              0,
              "#0d0887"
             ],
             [
              0.1111111111111111,
              "#46039f"
             ],
             [
              0.2222222222222222,
              "#7201a8"
             ],
             [
              0.3333333333333333,
              "#9c179e"
             ],
             [
              0.4444444444444444,
              "#bd3786"
             ],
             [
              0.5555555555555556,
              "#d8576b"
             ],
             [
              0.6666666666666666,
              "#ed7953"
             ],
             [
              0.7777777777777778,
              "#fb9f3a"
             ],
             [
              0.8888888888888888,
              "#fdca26"
             ],
             [
              1,
              "#f0f921"
             ]
            ],
            "type": "surface"
           }
          ],
          "table": [
           {
            "cells": {
             "fill": {
              "color": "#EBF0F8"
             },
             "line": {
              "color": "white"
             }
            },
            "header": {
             "fill": {
              "color": "#C8D4E3"
             },
             "line": {
              "color": "white"
             }
            },
            "type": "table"
           }
          ]
         },
         "layout": {
          "annotationdefaults": {
           "arrowcolor": "#2a3f5f",
           "arrowhead": 0,
           "arrowwidth": 1
          },
          "autotypenumbers": "strict",
          "coloraxis": {
           "colorbar": {
            "outlinewidth": 0,
            "ticks": ""
           }
          },
          "colorscale": {
           "diverging": [
            [
             0,
             "#8e0152"
            ],
            [
             0.1,
             "#c51b7d"
            ],
            [
             0.2,
             "#de77ae"
            ],
            [
             0.3,
             "#f1b6da"
            ],
            [
             0.4,
             "#fde0ef"
            ],
            [
             0.5,
             "#f7f7f7"
            ],
            [
             0.6,
             "#e6f5d0"
            ],
            [
             0.7,
             "#b8e186"
            ],
            [
             0.8,
             "#7fbc41"
            ],
            [
             0.9,
             "#4d9221"
            ],
            [
             1,
             "#276419"
            ]
           ],
           "sequential": [
            [
             0,
             "#0d0887"
            ],
            [
             0.1111111111111111,
             "#46039f"
            ],
            [
             0.2222222222222222,
             "#7201a8"
            ],
            [
             0.3333333333333333,
             "#9c179e"
            ],
            [
             0.4444444444444444,
             "#bd3786"
            ],
            [
             0.5555555555555556,
             "#d8576b"
            ],
            [
             0.6666666666666666,
             "#ed7953"
            ],
            [
             0.7777777777777778,
             "#fb9f3a"
            ],
            [
             0.8888888888888888,
             "#fdca26"
            ],
            [
             1,
             "#f0f921"
            ]
           ],
           "sequentialminus": [
            [
             0,
             "#0d0887"
            ],
            [
             0.1111111111111111,
             "#46039f"
            ],
            [
             0.2222222222222222,
             "#7201a8"
            ],
            [
             0.3333333333333333,
             "#9c179e"
            ],
            [
             0.4444444444444444,
             "#bd3786"
            ],
            [
             0.5555555555555556,
             "#d8576b"
            ],
            [
             0.6666666666666666,
             "#ed7953"
            ],
            [
             0.7777777777777778,
             "#fb9f3a"
            ],
            [
             0.8888888888888888,
             "#fdca26"
            ],
            [
             1,
             "#f0f921"
            ]
           ]
          },
          "colorway": [
           "#636efa",
           "#EF553B",
           "#00cc96",
           "#ab63fa",
           "#FFA15A",
           "#19d3f3",
           "#FF6692",
           "#B6E880",
           "#FF97FF",
           "#FECB52"
          ],
          "font": {
           "color": "#2a3f5f"
          },
          "geo": {
           "bgcolor": "white",
           "lakecolor": "white",
           "landcolor": "#E5ECF6",
           "showlakes": true,
           "showland": true,
           "subunitcolor": "white"
          },
          "hoverlabel": {
           "align": "left"
          },
          "hovermode": "closest",
          "mapbox": {
           "style": "light"
          },
          "paper_bgcolor": "white",
          "plot_bgcolor": "#E5ECF6",
          "polar": {
           "angularaxis": {
            "gridcolor": "white",
            "linecolor": "white",
            "ticks": ""
           },
           "bgcolor": "#E5ECF6",
           "radialaxis": {
            "gridcolor": "white",
            "linecolor": "white",
            "ticks": ""
           }
          },
          "scene": {
           "xaxis": {
            "backgroundcolor": "#E5ECF6",
            "gridcolor": "white",
            "gridwidth": 2,
            "linecolor": "white",
            "showbackground": true,
            "ticks": "",
            "zerolinecolor": "white"
           },
           "yaxis": {
            "backgroundcolor": "#E5ECF6",
            "gridcolor": "white",
            "gridwidth": 2,
            "linecolor": "white",
            "showbackground": true,
            "ticks": "",
            "zerolinecolor": "white"
           },
           "zaxis": {
            "backgroundcolor": "#E5ECF6",
            "gridcolor": "white",
            "gridwidth": 2,
            "linecolor": "white",
            "showbackground": true,
            "ticks": "",
            "zerolinecolor": "white"
           }
          },
          "shapedefaults": {
           "line": {
            "color": "#2a3f5f"
           }
          },
          "ternary": {
           "aaxis": {
            "gridcolor": "white",
            "linecolor": "white",
            "ticks": ""
           },
           "baxis": {
            "gridcolor": "white",
            "linecolor": "white",
            "ticks": ""
           },
           "bgcolor": "#E5ECF6",
           "caxis": {
            "gridcolor": "white",
            "linecolor": "white",
            "ticks": ""
           }
          },
          "title": {
           "x": 0.05
          },
          "xaxis": {
           "automargin": true,
           "gridcolor": "white",
           "linecolor": "white",
           "ticks": "",
           "title": {
            "standoff": 15
           },
           "zerolinecolor": "white",
           "zerolinewidth": 2
          },
          "yaxis": {
           "automargin": true,
           "gridcolor": "white",
           "linecolor": "white",
           "ticks": "",
           "title": {
            "standoff": 15
           },
           "zerolinecolor": "white",
           "zerolinewidth": 2
          }
         }
        },
        "title": {
         "text": "Test"
        },
        "width": 1000,
        "xaxis": {
         "anchor": "y",
         "domain": [
          0,
          1
         ],
         "title": {
          "text": "Release Year"
         }
        },
        "yaxis": {
         "anchor": "x",
         "domain": [
          0,
          1
         ],
         "title": {
          "text": "Count"
         }
        }
       }
      }
     },
     "metadata": {},
     "output_type": "display_data"
    }
   ],
   "source": [
    "netflix_plus_rt_df = netflix_plus_rt_df.dropna(subset=\"tomatometer_status\")\n",
    "df_grouped = netflix_plus_rt_df.groupby(\"release_year_x\").count().reset_index()\n",
    "px.bar(df_grouped,\n",
    "      x='release_year_x',\n",
    "      y='title',\n",
    "      title='Test',\n",
    "      color='tomatometer_status',\n",
    "      barmode=\"stack\",\n",
    "      color_discrete_map={\n",
    "        \"Rotten\": \"red\",\n",
    "        \"Fresh\": \"yellow\",\n",
    "        \"Certified-Fresh\": \"green\",\n",
    "        },\n",
    "      width=1000,\n",
    "      labels={\n",
    "        \"release_year_x\": \"Release Year\",\n",
    "        \"title\": \"Count\",\n",
    "        }\n",
    "      )"
   ]
  },
  {
   "cell_type": "markdown",
   "metadata": {},
   "source": [
    "  ### Plan for Wednesday 15/06/2022\n",
    "  - Refactor into functions [Timebox: 1hr => 11:30]\n",
    "  - Python-Slugify & Peter Norvig spelling => pre-merge\n",
    "  - **5** different types of graph"
   ]
  },
  {
   "cell_type": "markdown",
   "metadata": {},
   "source": [
    "### Exploring Slugify"
   ]
  },
  {
   "cell_type": "code",
   "execution_count": 11,
   "metadata": {},
   "outputs": [
    {
     "name": "stdout",
     "output_type": "stream",
     "text": [
      "Cloudy with a Chance of Meatballs (2009) => cloudy-with-a-chance-of-meatballs-2009\n",
      "Cloudy With a Chance of Meatballs (2009) => cloudy-with-a-chance-of-meatballs-2009\n",
      "slugs match: True\n"
     ]
    }
   ],
   "source": [
    "from slugify import slugify\n",
    "\n",
    "entry_nf = 330 # Index of Cloudy with a chance of meatballs in Netflix\n",
    "entry_rt = 1674 # Index of Cloudy with a chance of meatballs in Rotten Tomatoes\n",
    "\n",
    "# film = netflix_movies_df.loc[netflix_movies_df['title'].str.lower() == 'Cloudy with a chance of meatballs'.lower()][\"title\"]\n",
    "# print(film)\n",
    "\n",
    "netflix_title = netflix_movies_df.loc[entry_nf][\"title\"]\n",
    "netflix_year = netflix_movies_df.loc[entry_nf][\"release_year\"]\n",
    "rotten_title = rotten_movies_df.loc[entry_rt][\"movie_title\"]\n",
    "rotten_year = rotten_movies_df.loc[entry_rt][\"release_year\"]\n",
    "\n",
    "nf_title_slug = slugify(f\"{netflix_title} {netflix_year}\")\n",
    "rt_title_slug = slugify(f\"{rotten_title} {rotten_year}\")\n",
    "\n",
    "print(f\"{netflix_title} ({netflix_year}) => {nf_title_slug}\")\n",
    "print(f\"{rotten_title} ({rotten_year}) => {rt_title_slug}\")\n",
    "print(f\"slugs match: {nf_title_slug == rt_title_slug}\")\n"
   ]
  },
  {
   "cell_type": "code",
   "execution_count": 12,
   "metadata": {},
   "outputs": [
    {
     "data": {
      "text/html": [
       "<div>\n",
       "<style scoped>\n",
       "    .dataframe tbody tr th:only-of-type {\n",
       "        vertical-align: middle;\n",
       "    }\n",
       "\n",
       "    .dataframe tbody tr th {\n",
       "        vertical-align: top;\n",
       "    }\n",
       "\n",
       "    .dataframe thead th {\n",
       "        text-align: right;\n",
       "    }\n",
       "</style>\n",
       "<table border=\"1\" class=\"dataframe\">\n",
       "  <thead>\n",
       "    <tr style=\"text-align: right;\">\n",
       "      <th></th>\n",
       "      <th>release_year_x</th>\n",
       "      <th>runtime</th>\n",
       "      <th>tomatometer_rating</th>\n",
       "      <th>tomatometer_count</th>\n",
       "      <th>audience_rating</th>\n",
       "      <th>audience_count</th>\n",
       "      <th>tomatometer_top_critics_count</th>\n",
       "      <th>tomatometer_fresh_critics_count</th>\n",
       "      <th>tomatometer_rotten_critics_count</th>\n",
       "    </tr>\n",
       "  </thead>\n",
       "  <tbody>\n",
       "    <tr>\n",
       "      <th>count</th>\n",
       "      <td>1283.000000</td>\n",
       "      <td>1261.000000</td>\n",
       "      <td>1280.000000</td>\n",
       "      <td>1280.000000</td>\n",
       "      <td>1278.000000</td>\n",
       "      <td>1.278000e+03</td>\n",
       "      <td>1283.000000</td>\n",
       "      <td>1283.000000</td>\n",
       "      <td>1283.000000</td>\n",
       "    </tr>\n",
       "    <tr>\n",
       "      <th>mean</th>\n",
       "      <td>2008.474669</td>\n",
       "      <td>107.389374</td>\n",
       "      <td>58.914844</td>\n",
       "      <td>101.823437</td>\n",
       "      <td>61.065728</td>\n",
       "      <td>4.579191e+05</td>\n",
       "      <td>24.239283</td>\n",
       "      <td>63.951676</td>\n",
       "      <td>37.678878</td>\n",
       "    </tr>\n",
       "    <tr>\n",
       "      <th>std</th>\n",
       "      <td>11.035326</td>\n",
       "      <td>20.698359</td>\n",
       "      <td>28.763354</td>\n",
       "      <td>84.786842</td>\n",
       "      <td>20.171009</td>\n",
       "      <td>3.272016e+06</td>\n",
       "      <td>17.674328</td>\n",
       "      <td>71.532778</td>\n",
       "      <td>39.492112</td>\n",
       "    </tr>\n",
       "    <tr>\n",
       "      <th>min</th>\n",
       "      <td>1954.000000</td>\n",
       "      <td>22.000000</td>\n",
       "      <td>0.000000</td>\n",
       "      <td>5.000000</td>\n",
       "      <td>8.000000</td>\n",
       "      <td>6.000000e+00</td>\n",
       "      <td>0.000000</td>\n",
       "      <td>0.000000</td>\n",
       "      <td>0.000000</td>\n",
       "    </tr>\n",
       "    <tr>\n",
       "      <th>25%</th>\n",
       "      <td>2004.000000</td>\n",
       "      <td>93.000000</td>\n",
       "      <td>35.000000</td>\n",
       "      <td>30.000000</td>\n",
       "      <td>46.000000</td>\n",
       "      <td>1.481250e+03</td>\n",
       "      <td>8.000000</td>\n",
       "      <td>13.000000</td>\n",
       "      <td>7.000000</td>\n",
       "    </tr>\n",
       "    <tr>\n",
       "      <th>50%</th>\n",
       "      <td>2012.000000</td>\n",
       "      <td>103.000000</td>\n",
       "      <td>62.500000</td>\n",
       "      <td>79.000000</td>\n",
       "      <td>63.000000</td>\n",
       "      <td>2.709750e+04</td>\n",
       "      <td>21.000000</td>\n",
       "      <td>38.000000</td>\n",
       "      <td>21.000000</td>\n",
       "    </tr>\n",
       "    <tr>\n",
       "      <th>75%</th>\n",
       "      <td>2017.000000</td>\n",
       "      <td>118.000000</td>\n",
       "      <td>85.000000</td>\n",
       "      <td>158.000000</td>\n",
       "      <td>77.000000</td>\n",
       "      <td>1.707082e+05</td>\n",
       "      <td>39.000000</td>\n",
       "      <td>87.500000</td>\n",
       "      <td>59.000000</td>\n",
       "    </tr>\n",
       "    <tr>\n",
       "      <th>max</th>\n",
       "      <td>2020.000000</td>\n",
       "      <td>213.000000</td>\n",
       "      <td>100.000000</td>\n",
       "      <td>512.000000</td>\n",
       "      <td>99.000000</td>\n",
       "      <td>3.467977e+07</td>\n",
       "      <td>65.000000</td>\n",
       "      <td>495.000000</td>\n",
       "      <td>196.000000</td>\n",
       "    </tr>\n",
       "  </tbody>\n",
       "</table>\n",
       "</div>"
      ],
      "text/plain": [
       "       release_year_x      runtime  tomatometer_rating  tomatometer_count  \\\n",
       "count     1283.000000  1261.000000         1280.000000        1280.000000   \n",
       "mean      2008.474669   107.389374           58.914844         101.823437   \n",
       "std         11.035326    20.698359           28.763354          84.786842   \n",
       "min       1954.000000    22.000000            0.000000           5.000000   \n",
       "25%       2004.000000    93.000000           35.000000          30.000000   \n",
       "50%       2012.000000   103.000000           62.500000          79.000000   \n",
       "75%       2017.000000   118.000000           85.000000         158.000000   \n",
       "max       2020.000000   213.000000          100.000000         512.000000   \n",
       "\n",
       "       audience_rating  audience_count  tomatometer_top_critics_count  \\\n",
       "count      1278.000000    1.278000e+03                    1283.000000   \n",
       "mean         61.065728    4.579191e+05                      24.239283   \n",
       "std          20.171009    3.272016e+06                      17.674328   \n",
       "min           8.000000    6.000000e+00                       0.000000   \n",
       "25%          46.000000    1.481250e+03                       8.000000   \n",
       "50%          63.000000    2.709750e+04                      21.000000   \n",
       "75%          77.000000    1.707082e+05                      39.000000   \n",
       "max          99.000000    3.467977e+07                      65.000000   \n",
       "\n",
       "       tomatometer_fresh_critics_count  tomatometer_rotten_critics_count  \n",
       "count                      1283.000000                       1283.000000  \n",
       "mean                         63.951676                         37.678878  \n",
       "std                          71.532778                         39.492112  \n",
       "min                           0.000000                          0.000000  \n",
       "25%                          13.000000                          7.000000  \n",
       "50%                          38.000000                         21.000000  \n",
       "75%                          87.500000                         59.000000  \n",
       "max                         495.000000                        196.000000  "
      ]
     },
     "execution_count": 12,
     "metadata": {},
     "output_type": "execute_result"
    }
   ],
   "source": [
    "def combine_title_and_year_columns(dataframe, title_column, year_column, output_column):\n",
    "  dataframe[output_column] = dataframe[title_column].str.lower() + \" \" + netflix_movies_df[year_column].astype(str)\n",
    "\n",
    "# netflix_movies_df[\"slug\"] = [slugify(f\"{entry['title']} {entry['release_year']}\") for entry in netflix_movies_df]\n",
    "# rotten_movies_df[\"slug\"] = slugify(f\"{rotten_movies_df['movie_title']} {rotten_movies_df['release_year']}\")\n",
    "\n",
    "netflix_movies_df[\"title_and_release_year\"] = netflix_movies_df[\"title\"] + \" \" + netflix_movies_df[\"release_year\"].astype(str)\n",
    "netflix_movies_df[\"title_and_release_year\"] = netflix_movies_df[\"title_and_release_year\"].apply(slugify)\n",
    "# combine_columns(netflix_movies_df, \"title\", \"release_year\", output_column=\"title_and_release_year\")\n",
    "rotten_movies_df[\"title_and_release_year\"] = rotten_movies_df[\"movie_title\"] + \" \" + rotten_movies_df[\"release_year\"].astype(str)\n",
    "rotten_movies_df[\"title_and_release_year\"] = rotten_movies_df[\"title_and_release_year\"].apply(slugify)\n",
    "# combine_columns(rotten_movies_df, \"movie_title\", \"release_year\", output_column=\"title_and_release_year\")\n",
    "\n",
    "\n",
    "netflix_plus_rt_df = pd.merge(netflix_movies_df, rotten_movies_df, how=\"inner\", on=\"title_and_release_year\")\n",
    "after_slugify = netflix_plus_rt_df[\"title\"].count()\n",
    "netflix_plus_rt_df.describe()\n"
   ]
  },
  {
   "cell_type": "markdown",
   "metadata": {},
   "source": [
    "### Create a dataframe containing the results"
   ]
  },
  {
   "cell_type": "code",
   "execution_count": 25,
   "metadata": {},
   "outputs": [
    {
     "data": {
      "text/html": [
       "<div>\n",
       "<style scoped>\n",
       "    .dataframe tbody tr th:only-of-type {\n",
       "        vertical-align: middle;\n",
       "    }\n",
       "\n",
       "    .dataframe tbody tr th {\n",
       "        vertical-align: top;\n",
       "    }\n",
       "\n",
       "    .dataframe thead th {\n",
       "        text-align: right;\n",
       "    }\n",
       "</style>\n",
       "<table border=\"1\" class=\"dataframe\">\n",
       "  <thead>\n",
       "    <tr style=\"text-align: right;\">\n",
       "      <th></th>\n",
       "      <th>release_year_x</th>\n",
       "      <th>runtime</th>\n",
       "      <th>tomatometer_rating</th>\n",
       "      <th>tomatometer_count</th>\n",
       "      <th>audience_rating</th>\n",
       "      <th>audience_count</th>\n",
       "      <th>tomatometer_top_critics_count</th>\n",
       "      <th>tomatometer_fresh_critics_count</th>\n",
       "      <th>tomatometer_rotten_critics_count</th>\n",
       "    </tr>\n",
       "  </thead>\n",
       "  <tbody>\n",
       "    <tr>\n",
       "      <th>count</th>\n",
       "      <td>4342.000000</td>\n",
       "      <td>15579.000000</td>\n",
       "      <td>15764.000000</td>\n",
       "      <td>15764.000000</td>\n",
       "      <td>15541.000000</td>\n",
       "      <td>1.554000e+04</td>\n",
       "      <td>15805.000000</td>\n",
       "      <td>15805.000000</td>\n",
       "      <td>15805.000000</td>\n",
       "    </tr>\n",
       "    <tr>\n",
       "      <th>mean</th>\n",
       "      <td>2014.213266</td>\n",
       "      <td>101.873676</td>\n",
       "      <td>60.960606</td>\n",
       "      <td>53.667660</td>\n",
       "      <td>60.601570</td>\n",
       "      <td>1.166589e+05</td>\n",
       "      <td>13.856438</td>\n",
       "      <td>34.175324</td>\n",
       "      <td>19.434419</td>\n",
       "    </tr>\n",
       "    <tr>\n",
       "      <th>std</th>\n",
       "      <td>8.994796</td>\n",
       "      <td>18.558062</td>\n",
       "      <td>28.429809</td>\n",
       "      <td>65.699715</td>\n",
       "      <td>20.548184</td>\n",
       "      <td>1.547059e+06</td>\n",
       "      <td>14.680692</td>\n",
       "      <td>50.250230</td>\n",
       "      <td>29.139070</td>\n",
       "    </tr>\n",
       "    <tr>\n",
       "      <th>min</th>\n",
       "      <td>1942.000000</td>\n",
       "      <td>5.000000</td>\n",
       "      <td>0.000000</td>\n",
       "      <td>5.000000</td>\n",
       "      <td>0.000000</td>\n",
       "      <td>5.000000e+00</td>\n",
       "      <td>0.000000</td>\n",
       "      <td>0.000000</td>\n",
       "      <td>0.000000</td>\n",
       "    </tr>\n",
       "    <tr>\n",
       "      <th>25%</th>\n",
       "      <td>2014.000000</td>\n",
       "      <td>90.000000</td>\n",
       "      <td>39.000000</td>\n",
       "      <td>11.000000</td>\n",
       "      <td>45.000000</td>\n",
       "      <td>7.200000e+02</td>\n",
       "      <td>3.000000</td>\n",
       "      <td>6.000000</td>\n",
       "      <td>3.000000</td>\n",
       "    </tr>\n",
       "    <tr>\n",
       "      <th>50%</th>\n",
       "      <td>2017.000000</td>\n",
       "      <td>99.000000</td>\n",
       "      <td>67.000000</td>\n",
       "      <td>26.000000</td>\n",
       "      <td>63.000000</td>\n",
       "      <td>4.060000e+03</td>\n",
       "      <td>8.000000</td>\n",
       "      <td>15.000000</td>\n",
       "      <td>7.000000</td>\n",
       "    </tr>\n",
       "    <tr>\n",
       "      <th>75%</th>\n",
       "      <td>2019.000000</td>\n",
       "      <td>110.000000</td>\n",
       "      <td>86.000000</td>\n",
       "      <td>68.000000</td>\n",
       "      <td>78.000000</td>\n",
       "      <td>2.125700e+04</td>\n",
       "      <td>21.000000</td>\n",
       "      <td>41.000000</td>\n",
       "      <td>22.000000</td>\n",
       "    </tr>\n",
       "    <tr>\n",
       "      <th>max</th>\n",
       "      <td>2021.000000</td>\n",
       "      <td>266.000000</td>\n",
       "      <td>100.000000</td>\n",
       "      <td>554.000000</td>\n",
       "      <td>100.000000</td>\n",
       "      <td>3.579764e+07</td>\n",
       "      <td>69.000000</td>\n",
       "      <td>497.000000</td>\n",
       "      <td>303.000000</td>\n",
       "    </tr>\n",
       "  </tbody>\n",
       "</table>\n",
       "</div>"
      ],
      "text/plain": [
       "       release_year_x       runtime  tomatometer_rating  tomatometer_count  \\\n",
       "count     4342.000000  15579.000000        15764.000000       15764.000000   \n",
       "mean      2014.213266    101.873676           60.960606          53.667660   \n",
       "std          8.994796     18.558062           28.429809          65.699715   \n",
       "min       1942.000000      5.000000            0.000000           5.000000   \n",
       "25%       2014.000000     90.000000           39.000000          11.000000   \n",
       "50%       2017.000000     99.000000           67.000000          26.000000   \n",
       "75%       2019.000000    110.000000           86.000000          68.000000   \n",
       "max       2021.000000    266.000000          100.000000         554.000000   \n",
       "\n",
       "       audience_rating  audience_count  tomatometer_top_critics_count  \\\n",
       "count     15541.000000    1.554000e+04                   15805.000000   \n",
       "mean         60.601570    1.166589e+05                      13.856438   \n",
       "std          20.548184    1.547059e+06                      14.680692   \n",
       "min           0.000000    5.000000e+00                       0.000000   \n",
       "25%          45.000000    7.200000e+02                       3.000000   \n",
       "50%          63.000000    4.060000e+03                       8.000000   \n",
       "75%          78.000000    2.125700e+04                      21.000000   \n",
       "max         100.000000    3.579764e+07                      69.000000   \n",
       "\n",
       "       tomatometer_fresh_critics_count  tomatometer_rotten_critics_count  \n",
       "count                     15805.000000                      15805.000000  \n",
       "mean                         34.175324                         19.434419  \n",
       "std                          50.250230                         29.139070  \n",
       "min                           0.000000                          0.000000  \n",
       "25%                           6.000000                          3.000000  \n",
       "50%                          15.000000                          7.000000  \n",
       "75%                          41.000000                         22.000000  \n",
       "max                         497.000000                        303.000000  "
      ]
     },
     "execution_count": 25,
     "metadata": {},
     "output_type": "execute_result"
    }
   ],
   "source": [
    "complete_nf_rt_df = pd.merge(netflix_movies_df, rotten_movies_df, how=\"outer\", left_on=\"title\", right_on=\"movie_title\", indicator=True)\n",
    "# complete_nf_rt_df = pd.merge(netflix_movies_df, rotten_movies_df, how=\"outer\", on=\"title_and_release_year\", indicator=True)\n",
    "# unlinked_netflix_plus_rt_df = netflix_plus_rt_df.drop(list(netflix_plus_rt_df))\n",
    "complete_nf_rt_df[\"title\"].fillna(complete_nf_rt_df[\"movie_title\"])\n",
    "complete_nf_rt_df[\"movie_title\"].fillna(complete_nf_rt_df[\"title\"])\n",
    "included_in_both_filt = complete_nf_rt_df[\"_merge\"] == \"both\"\n",
    "complete_nf_rt_df = complete_nf_rt_df[~included_in_both_filt]\n",
    "complete_nf_rt_df.describe()"
   ]
  },
  {
   "cell_type": "markdown",
   "metadata": {},
   "source": [
    "## Highlight the Progress on Cleaning Pre-Merge"
   ]
  },
  {
   "cell_type": "code",
   "execution_count": 59,
   "metadata": {},
   "outputs": [
    {
     "data": {
      "application/vnd.plotly.v1+json": {
       "config": {
        "plotlyServerURL": "https://plot.ly"
       },
       "data": [
        {
         "alignmentgroup": "True",
         "hovertemplate": "variable=count<br>index=%{x}<br>value=%{y}<extra></extra>",
         "legendgroup": "count",
         "marker": {
          "color": "#636efa",
          "pattern": {
           "shape": ""
          }
         },
         "name": "count",
         "offsetgroup": "count",
         "orientation": "v",
         "showlegend": true,
         "textposition": "auto",
         "type": "bar",
         "x": [
          0,
          1
         ],
         "xaxis": "x",
         "y": [
          1252,
          1283
         ],
         "yaxis": "y"
        }
       ],
       "layout": {
        "barmode": "relative",
        "legend": {
         "title": {
          "text": "variable"
         },
         "tracegroupgap": 0
        },
        "margin": {
         "t": 60
        },
        "template": {
         "data": {
          "bar": [
           {
            "error_x": {
             "color": "#2a3f5f"
            },
            "error_y": {
             "color": "#2a3f5f"
            },
            "marker": {
             "line": {
              "color": "#E5ECF6",
              "width": 0.5
             },
             "pattern": {
              "fillmode": "overlay",
              "size": 10,
              "solidity": 0.2
             }
            },
            "type": "bar"
           }
          ],
          "barpolar": [
           {
            "marker": {
             "line": {
              "color": "#E5ECF6",
              "width": 0.5
             },
             "pattern": {
              "fillmode": "overlay",
              "size": 10,
              "solidity": 0.2
             }
            },
            "type": "barpolar"
           }
          ],
          "carpet": [
           {
            "aaxis": {
             "endlinecolor": "#2a3f5f",
             "gridcolor": "white",
             "linecolor": "white",
             "minorgridcolor": "white",
             "startlinecolor": "#2a3f5f"
            },
            "baxis": {
             "endlinecolor": "#2a3f5f",
             "gridcolor": "white",
             "linecolor": "white",
             "minorgridcolor": "white",
             "startlinecolor": "#2a3f5f"
            },
            "type": "carpet"
           }
          ],
          "choropleth": [
           {
            "colorbar": {
             "outlinewidth": 0,
             "ticks": ""
            },
            "type": "choropleth"
           }
          ],
          "contour": [
           {
            "colorbar": {
             "outlinewidth": 0,
             "ticks": ""
            },
            "colorscale": [
             [
              0,
              "#0d0887"
             ],
             [
              0.1111111111111111,
              "#46039f"
             ],
             [
              0.2222222222222222,
              "#7201a8"
             ],
             [
              0.3333333333333333,
              "#9c179e"
             ],
             [
              0.4444444444444444,
              "#bd3786"
             ],
             [
              0.5555555555555556,
              "#d8576b"
             ],
             [
              0.6666666666666666,
              "#ed7953"
             ],
             [
              0.7777777777777778,
              "#fb9f3a"
             ],
             [
              0.8888888888888888,
              "#fdca26"
             ],
             [
              1,
              "#f0f921"
             ]
            ],
            "type": "contour"
           }
          ],
          "contourcarpet": [
           {
            "colorbar": {
             "outlinewidth": 0,
             "ticks": ""
            },
            "type": "contourcarpet"
           }
          ],
          "heatmap": [
           {
            "colorbar": {
             "outlinewidth": 0,
             "ticks": ""
            },
            "colorscale": [
             [
              0,
              "#0d0887"
             ],
             [
              0.1111111111111111,
              "#46039f"
             ],
             [
              0.2222222222222222,
              "#7201a8"
             ],
             [
              0.3333333333333333,
              "#9c179e"
             ],
             [
              0.4444444444444444,
              "#bd3786"
             ],
             [
              0.5555555555555556,
              "#d8576b"
             ],
             [
              0.6666666666666666,
              "#ed7953"
             ],
             [
              0.7777777777777778,
              "#fb9f3a"
             ],
             [
              0.8888888888888888,
              "#fdca26"
             ],
             [
              1,
              "#f0f921"
             ]
            ],
            "type": "heatmap"
           }
          ],
          "heatmapgl": [
           {
            "colorbar": {
             "outlinewidth": 0,
             "ticks": ""
            },
            "colorscale": [
             [
              0,
              "#0d0887"
             ],
             [
              0.1111111111111111,
              "#46039f"
             ],
             [
              0.2222222222222222,
              "#7201a8"
             ],
             [
              0.3333333333333333,
              "#9c179e"
             ],
             [
              0.4444444444444444,
              "#bd3786"
             ],
             [
              0.5555555555555556,
              "#d8576b"
             ],
             [
              0.6666666666666666,
              "#ed7953"
             ],
             [
              0.7777777777777778,
              "#fb9f3a"
             ],
             [
              0.8888888888888888,
              "#fdca26"
             ],
             [
              1,
              "#f0f921"
             ]
            ],
            "type": "heatmapgl"
           }
          ],
          "histogram": [
           {
            "marker": {
             "pattern": {
              "fillmode": "overlay",
              "size": 10,
              "solidity": 0.2
             }
            },
            "type": "histogram"
           }
          ],
          "histogram2d": [
           {
            "colorbar": {
             "outlinewidth": 0,
             "ticks": ""
            },
            "colorscale": [
             [
              0,
              "#0d0887"
             ],
             [
              0.1111111111111111,
              "#46039f"
             ],
             [
              0.2222222222222222,
              "#7201a8"
             ],
             [
              0.3333333333333333,
              "#9c179e"
             ],
             [
              0.4444444444444444,
              "#bd3786"
             ],
             [
              0.5555555555555556,
              "#d8576b"
             ],
             [
              0.6666666666666666,
              "#ed7953"
             ],
             [
              0.7777777777777778,
              "#fb9f3a"
             ],
             [
              0.8888888888888888,
              "#fdca26"
             ],
             [
              1,
              "#f0f921"
             ]
            ],
            "type": "histogram2d"
           }
          ],
          "histogram2dcontour": [
           {
            "colorbar": {
             "outlinewidth": 0,
             "ticks": ""
            },
            "colorscale": [
             [
              0,
              "#0d0887"
             ],
             [
              0.1111111111111111,
              "#46039f"
             ],
             [
              0.2222222222222222,
              "#7201a8"
             ],
             [
              0.3333333333333333,
              "#9c179e"
             ],
             [
              0.4444444444444444,
              "#bd3786"
             ],
             [
              0.5555555555555556,
              "#d8576b"
             ],
             [
              0.6666666666666666,
              "#ed7953"
             ],
             [
              0.7777777777777778,
              "#fb9f3a"
             ],
             [
              0.8888888888888888,
              "#fdca26"
             ],
             [
              1,
              "#f0f921"
             ]
            ],
            "type": "histogram2dcontour"
           }
          ],
          "mesh3d": [
           {
            "colorbar": {
             "outlinewidth": 0,
             "ticks": ""
            },
            "type": "mesh3d"
           }
          ],
          "parcoords": [
           {
            "line": {
             "colorbar": {
              "outlinewidth": 0,
              "ticks": ""
             }
            },
            "type": "parcoords"
           }
          ],
          "pie": [
           {
            "automargin": true,
            "type": "pie"
           }
          ],
          "scatter": [
           {
            "fillpattern": {
             "fillmode": "overlay",
             "size": 10,
             "solidity": 0.2
            },
            "type": "scatter"
           }
          ],
          "scatter3d": [
           {
            "line": {
             "colorbar": {
              "outlinewidth": 0,
              "ticks": ""
             }
            },
            "marker": {
             "colorbar": {
              "outlinewidth": 0,
              "ticks": ""
             }
            },
            "type": "scatter3d"
           }
          ],
          "scattercarpet": [
           {
            "marker": {
             "colorbar": {
              "outlinewidth": 0,
              "ticks": ""
             }
            },
            "type": "scattercarpet"
           }
          ],
          "scattergeo": [
           {
            "marker": {
             "colorbar": {
              "outlinewidth": 0,
              "ticks": ""
             }
            },
            "type": "scattergeo"
           }
          ],
          "scattergl": [
           {
            "marker": {
             "colorbar": {
              "outlinewidth": 0,
              "ticks": ""
             }
            },
            "type": "scattergl"
           }
          ],
          "scattermapbox": [
           {
            "marker": {
             "colorbar": {
              "outlinewidth": 0,
              "ticks": ""
             }
            },
            "type": "scattermapbox"
           }
          ],
          "scatterpolar": [
           {
            "marker": {
             "colorbar": {
              "outlinewidth": 0,
              "ticks": ""
             }
            },
            "type": "scatterpolar"
           }
          ],
          "scatterpolargl": [
           {
            "marker": {
             "colorbar": {
              "outlinewidth": 0,
              "ticks": ""
             }
            },
            "type": "scatterpolargl"
           }
          ],
          "scatterternary": [
           {
            "marker": {
             "colorbar": {
              "outlinewidth": 0,
              "ticks": ""
             }
            },
            "type": "scatterternary"
           }
          ],
          "surface": [
           {
            "colorbar": {
             "outlinewidth": 0,
             "ticks": ""
            },
            "colorscale": [
             [
              0,
              "#0d0887"
             ],
             [
              0.1111111111111111,
              "#46039f"
             ],
             [
              0.2222222222222222,
              "#7201a8"
             ],
             [
              0.3333333333333333,
              "#9c179e"
             ],
             [
              0.4444444444444444,
              "#bd3786"
             ],
             [
              0.5555555555555556,
              "#d8576b"
             ],
             [
              0.6666666666666666,
              "#ed7953"
             ],
             [
              0.7777777777777778,
              "#fb9f3a"
             ],
             [
              0.8888888888888888,
              "#fdca26"
             ],
             [
              1,
              "#f0f921"
             ]
            ],
            "type": "surface"
           }
          ],
          "table": [
           {
            "cells": {
             "fill": {
              "color": "#EBF0F8"
             },
             "line": {
              "color": "white"
             }
            },
            "header": {
             "fill": {
              "color": "#C8D4E3"
             },
             "line": {
              "color": "white"
             }
            },
            "type": "table"
           }
          ]
         },
         "layout": {
          "annotationdefaults": {
           "arrowcolor": "#2a3f5f",
           "arrowhead": 0,
           "arrowwidth": 1
          },
          "autotypenumbers": "strict",
          "coloraxis": {
           "colorbar": {
            "outlinewidth": 0,
            "ticks": ""
           }
          },
          "colorscale": {
           "diverging": [
            [
             0,
             "#8e0152"
            ],
            [
             0.1,
             "#c51b7d"
            ],
            [
             0.2,
             "#de77ae"
            ],
            [
             0.3,
             "#f1b6da"
            ],
            [
             0.4,
             "#fde0ef"
            ],
            [
             0.5,
             "#f7f7f7"
            ],
            [
             0.6,
             "#e6f5d0"
            ],
            [
             0.7,
             "#b8e186"
            ],
            [
             0.8,
             "#7fbc41"
            ],
            [
             0.9,
             "#4d9221"
            ],
            [
             1,
             "#276419"
            ]
           ],
           "sequential": [
            [
             0,
             "#0d0887"
            ],
            [
             0.1111111111111111,
             "#46039f"
            ],
            [
             0.2222222222222222,
             "#7201a8"
            ],
            [
             0.3333333333333333,
             "#9c179e"
            ],
            [
             0.4444444444444444,
             "#bd3786"
            ],
            [
             0.5555555555555556,
             "#d8576b"
            ],
            [
             0.6666666666666666,
             "#ed7953"
            ],
            [
             0.7777777777777778,
             "#fb9f3a"
            ],
            [
             0.8888888888888888,
             "#fdca26"
            ],
            [
             1,
             "#f0f921"
            ]
           ],
           "sequentialminus": [
            [
             0,
             "#0d0887"
            ],
            [
             0.1111111111111111,
             "#46039f"
            ],
            [
             0.2222222222222222,
             "#7201a8"
            ],
            [
             0.3333333333333333,
             "#9c179e"
            ],
            [
             0.4444444444444444,
             "#bd3786"
            ],
            [
             0.5555555555555556,
             "#d8576b"
            ],
            [
             0.6666666666666666,
             "#ed7953"
            ],
            [
             0.7777777777777778,
             "#fb9f3a"
            ],
            [
             0.8888888888888888,
             "#fdca26"
            ],
            [
             1,
             "#f0f921"
            ]
           ]
          },
          "colorway": [
           "#636efa",
           "#EF553B",
           "#00cc96",
           "#ab63fa",
           "#FFA15A",
           "#19d3f3",
           "#FF6692",
           "#B6E880",
           "#FF97FF",
           "#FECB52"
          ],
          "font": {
           "color": "#2a3f5f"
          },
          "geo": {
           "bgcolor": "white",
           "lakecolor": "white",
           "landcolor": "#E5ECF6",
           "showlakes": true,
           "showland": true,
           "subunitcolor": "white"
          },
          "hoverlabel": {
           "align": "left"
          },
          "hovermode": "closest",
          "mapbox": {
           "style": "light"
          },
          "paper_bgcolor": "white",
          "plot_bgcolor": "#E5ECF6",
          "polar": {
           "angularaxis": {
            "gridcolor": "white",
            "linecolor": "white",
            "ticks": ""
           },
           "bgcolor": "#E5ECF6",
           "radialaxis": {
            "gridcolor": "white",
            "linecolor": "white",
            "ticks": ""
           }
          },
          "scene": {
           "xaxis": {
            "backgroundcolor": "#E5ECF6",
            "gridcolor": "white",
            "gridwidth": 2,
            "linecolor": "white",
            "showbackground": true,
            "ticks": "",
            "zerolinecolor": "white"
           },
           "yaxis": {
            "backgroundcolor": "#E5ECF6",
            "gridcolor": "white",
            "gridwidth": 2,
            "linecolor": "white",
            "showbackground": true,
            "ticks": "",
            "zerolinecolor": "white"
           },
           "zaxis": {
            "backgroundcolor": "#E5ECF6",
            "gridcolor": "white",
            "gridwidth": 2,
            "linecolor": "white",
            "showbackground": true,
            "ticks": "",
            "zerolinecolor": "white"
           }
          },
          "shapedefaults": {
           "line": {
            "color": "#2a3f5f"
           }
          },
          "ternary": {
           "aaxis": {
            "gridcolor": "white",
            "linecolor": "white",
            "ticks": ""
           },
           "baxis": {
            "gridcolor": "white",
            "linecolor": "white",
            "ticks": ""
           },
           "bgcolor": "#E5ECF6",
           "caxis": {
            "gridcolor": "white",
            "linecolor": "white",
            "ticks": ""
           }
          },
          "title": {
           "x": 0.05
          },
          "xaxis": {
           "automargin": true,
           "gridcolor": "white",
           "linecolor": "white",
           "ticks": "",
           "title": {
            "standoff": 15
           },
           "zerolinecolor": "white",
           "zerolinewidth": 2
          },
          "yaxis": {
           "automargin": true,
           "gridcolor": "white",
           "linecolor": "white",
           "ticks": "",
           "title": {
            "standoff": 15
           },
           "zerolinecolor": "white",
           "zerolinewidth": 2
          }
         }
        },
        "width": 1000,
        "xaxis": {
         "anchor": "y",
         "domain": [
          0,
          1
         ],
         "title": {
          "text": "index"
         }
        },
        "yaxis": {
         "anchor": "x",
         "domain": [
          0,
          1
         ],
         "title": {
          "text": "value"
         },
         "type": "log"
        }
       }
      }
     },
     "metadata": {},
     "output_type": "display_data"
    }
   ],
   "source": [
    "incredible_progress = {\n",
    "  'stage': [\"after_manual_join\", \"after_slugify\"],\n",
    "  'count': [after_manual_join, after_slugify],\n",
    "}\n",
    "incredible_progress_df = pd.DataFrame.from_dict(incredible_progress)\n",
    "incredible_progress_df\n",
    "\n",
    "px.line(\n",
    "  incredible_progress_df['count'],\n",
    "  width=1000,\n",
    ")\n",
    "\n",
    "px.bar(\n",
    "  incredible_progress_df['count'],\n",
    "  width=1000,\n",
    "  log_y=True\n",
    ")\n",
    "\n",
    "# px.bar(\n",
    "#   incredible_progress_df['count'],\n",
    "#   width=1000,\n",
    "# )"
   ]
  },
  {
   "cell_type": "code",
   "execution_count": null,
   "metadata": {},
   "outputs": [],
   "source": []
  }
 ],
 "metadata": {
  "interpreter": {
   "hash": "52e7f5fcce8b0ede6edd5ceaee6994f4e42cce3448f2f62bc9070aef6b2855de"
  },
  "kernelspec": {
   "display_name": "Python 3.9.13 ('netflix-analysis-BB5axs-S')",
   "language": "python",
   "name": "python3"
  },
  "language_info": {
   "codemirror_mode": {
    "name": "ipython",
    "version": 3
   },
   "file_extension": ".py",
   "mimetype": "text/x-python",
   "name": "python",
   "nbconvert_exporter": "python",
   "pygments_lexer": "ipython3",
   "version": "3.9.13"
  },
  "orig_nbformat": 4
 },
 "nbformat": 4,
 "nbformat_minor": 2
}
