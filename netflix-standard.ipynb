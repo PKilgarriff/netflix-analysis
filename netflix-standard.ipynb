{
 "cells": [
  {
   "cell_type": "code",
   "execution_count": 1,
   "metadata": {},
   "outputs": [
    {
     "ename": "ValueError",
     "evalue": "DataFrame constructor not properly called!",
     "output_type": "error",
     "traceback": [
      "\u001b[0;31m---------------------------------------------------------------------------\u001b[0m",
      "\u001b[0;31mValueError\u001b[0m                                Traceback (most recent call last)",
      "\u001b[1;32m/Users/paul/Projects/Makers/bridge_week_02/netflix-analysis/Untitled-1.ipynb Cell 1'\u001b[0m in \u001b[0;36m<cell line: 2>\u001b[0;34m()\u001b[0m\n\u001b[1;32m      <a href='vscode-notebook-cell:/Users/paul/Projects/Makers/bridge_week_02/netflix-analysis/Untitled-1.ipynb#ch0000000?line=0'>1</a>\u001b[0m \u001b[39mimport\u001b[39;00m \u001b[39mpandas\u001b[39;00m \u001b[39mas\u001b[39;00m \u001b[39mpd\u001b[39;00m\n\u001b[0;32m----> <a href='vscode-notebook-cell:/Users/paul/Projects/Makers/bridge_week_02/netflix-analysis/Untitled-1.ipynb#ch0000000?line=1'>2</a>\u001b[0m df \u001b[39m=\u001b[39m pd\u001b[39m.\u001b[39;49mDataFrame(\u001b[39m'\u001b[39;49m\u001b[39mdata/netflix-titles.csv\u001b[39;49m\u001b[39m'\u001b[39;49m)\n",
      "File \u001b[0;32m~/.local/share/virtualenvs/netflix-analysis-BB5axs-S/lib/python3.9/site-packages/pandas/core/frame.py:756\u001b[0m, in \u001b[0;36mDataFrame.__init__\u001b[0;34m(self, data, index, columns, dtype, copy)\u001b[0m\n\u001b[1;32m    <a href='file:///Users/paul/.local/share/virtualenvs/netflix-analysis-BB5axs-S/lib/python3.9/site-packages/pandas/core/frame.py?line=752'>753</a>\u001b[0m \u001b[39m# For data is scalar\u001b[39;00m\n\u001b[1;32m    <a href='file:///Users/paul/.local/share/virtualenvs/netflix-analysis-BB5axs-S/lib/python3.9/site-packages/pandas/core/frame.py?line=753'>754</a>\u001b[0m \u001b[39melse\u001b[39;00m:\n\u001b[1;32m    <a href='file:///Users/paul/.local/share/virtualenvs/netflix-analysis-BB5axs-S/lib/python3.9/site-packages/pandas/core/frame.py?line=754'>755</a>\u001b[0m     \u001b[39mif\u001b[39;00m index \u001b[39mis\u001b[39;00m \u001b[39mNone\u001b[39;00m \u001b[39mor\u001b[39;00m columns \u001b[39mis\u001b[39;00m \u001b[39mNone\u001b[39;00m:\n\u001b[0;32m--> <a href='file:///Users/paul/.local/share/virtualenvs/netflix-analysis-BB5axs-S/lib/python3.9/site-packages/pandas/core/frame.py?line=755'>756</a>\u001b[0m         \u001b[39mraise\u001b[39;00m \u001b[39mValueError\u001b[39;00m(\u001b[39m\"\u001b[39m\u001b[39mDataFrame constructor not properly called!\u001b[39m\u001b[39m\"\u001b[39m)\n\u001b[1;32m    <a href='file:///Users/paul/.local/share/virtualenvs/netflix-analysis-BB5axs-S/lib/python3.9/site-packages/pandas/core/frame.py?line=757'>758</a>\u001b[0m     \u001b[39m# Argument 1 to \"ensure_index\" has incompatible type \"Collection[Any]\";\u001b[39;00m\n\u001b[1;32m    <a href='file:///Users/paul/.local/share/virtualenvs/netflix-analysis-BB5axs-S/lib/python3.9/site-packages/pandas/core/frame.py?line=758'>759</a>\u001b[0m     \u001b[39m# expected \"Union[Union[Union[ExtensionArray, ndarray],\u001b[39;00m\n\u001b[1;32m    <a href='file:///Users/paul/.local/share/virtualenvs/netflix-analysis-BB5axs-S/lib/python3.9/site-packages/pandas/core/frame.py?line=759'>760</a>\u001b[0m     \u001b[39m# Index, Series], Sequence[Any]]\"\u001b[39;00m\n\u001b[1;32m    <a href='file:///Users/paul/.local/share/virtualenvs/netflix-analysis-BB5axs-S/lib/python3.9/site-packages/pandas/core/frame.py?line=760'>761</a>\u001b[0m     index \u001b[39m=\u001b[39m ensure_index(index)  \u001b[39m# type: ignore[arg-type]\u001b[39;00m\n",
      "\u001b[0;31mValueError\u001b[0m: DataFrame constructor not properly called!"
     ]
    }
   ],
   "source": [
    "import pandas as pd\n",
    "df = pd.DataFrame('data/netflix-titles.csv')"
   ]
  }
 ],
 "metadata": {
  "interpreter": {
   "hash": "52e7f5fcce8b0ede6edd5ceaee6994f4e42cce3448f2f62bc9070aef6b2855de"
  },
  "kernelspec": {
   "display_name": "Python 3.9.13 ('netflix-analysis-BB5axs-S')",
   "language": "python",
   "name": "python3"
  },
  "language_info": {
   "codemirror_mode": {
    "name": "ipython",
    "version": 3
   },
   "file_extension": ".py",
   "mimetype": "text/x-python",
   "name": "python",
   "nbconvert_exporter": "python",
   "pygments_lexer": "ipython3",
   "version": "3.9.13"
  },
  "orig_nbformat": 4
 },
 "nbformat": 4,
 "nbformat_minor": 2
}
